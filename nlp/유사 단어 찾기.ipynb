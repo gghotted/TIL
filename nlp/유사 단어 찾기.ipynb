{
 "cells": [
  {
   "cell_type": "markdown",
   "metadata": {},
   "source": [
    "# 유사 단어 찾기"
   ]
  },
  {
   "cell_type": "code",
   "execution_count": 8,
   "metadata": {
    "ExecuteTime": {
     "end_time": "2020-02-10T11:17:27.151735Z",
     "start_time": "2020-02-10T11:17:27.148670Z"
    }
   },
   "outputs": [],
   "source": [
    "from konlpy.tag import Okt\n",
    "from gensim.models import Word2Vec\n",
    "from gensim.models import word2vec"
   ]
  },
  {
   "cell_type": "code",
   "execution_count": 9,
   "metadata": {
    "ExecuteTime": {
     "end_time": "2020-02-10T11:17:28.225790Z",
     "start_time": "2020-02-10T11:17:28.219805Z"
    }
   },
   "outputs": [],
   "source": [
    "okt = Okt()\n",
    "\n",
    "def read_data(filename):\n",
    "    with open(filename, encoding='utf-8', mode='r') as f:\n",
    "        data = [line.split('\\t') for line in f.read().splitlines()]\n",
    "        data = data[1:]   # header 제외\n",
    "    return data\n",
    "\n",
    "def tokens(doc):\n",
    "    return ['/'.join(t) for t in okt.pos(doc, norm=True, stem=True)]"
   ]
  },
  {
   "cell_type": "code",
   "execution_count": 10,
   "metadata": {
    "ExecuteTime": {
     "end_time": "2020-02-10T11:17:36.386031Z",
     "start_time": "2020-02-10T11:17:29.444532Z"
    }
   },
   "outputs": [],
   "source": [
    "ratings_train = read_data('ratings_train.txt')\n",
    "docs = [row[1] for row in ratings_train]\n",
    "data = [tokens(d) for d in docs]\n",
    "w2v_model = word2vec.Word2Vec(data, size=100, window=3)\n",
    "w2v_model.save('naver.model')"
   ]
  },
  {
   "cell_type": "code",
   "execution_count": 12,
   "metadata": {
    "ExecuteTime": {
     "end_time": "2020-02-10T11:17:56.591580Z",
     "start_time": "2020-02-10T11:17:56.581646Z"
    }
   },
   "outputs": [
    {
     "data": {
      "text/plain": [
       "[('노답/Noun', 0.8430792093276978),\n",
       " ('핵/Noun', 0.7869428396224976),\n",
       " ('발암/Noun', 0.7103109955787659),\n",
       " ('극혐/Noun', 0.6987761855125427),\n",
       " ('씹다/Verb', 0.695110559463501),\n",
       " ('레알/Noun', 0.6875410079956055),\n",
       " ('우와/Exclamation', 0.6865196228027344),\n",
       " ('병맛/Noun', 0.6829115152359009),\n",
       " ('깜놀/Noun', 0.6740422248840332),\n",
       " ('빡치다/Adjective', 0.6543080806732178)]"
      ]
     },
     "execution_count": 12,
     "metadata": {},
     "output_type": "execute_result"
    }
   ],
   "source": [
    "w2v_model.wv.most_similar(tokens('노잼'))"
   ]
  },
  {
   "cell_type": "code",
   "execution_count": 14,
   "metadata": {
    "ExecuteTime": {
     "end_time": "2020-02-10T11:18:28.531967Z",
     "start_time": "2020-02-10T11:18:28.524988Z"
    }
   },
   "outputs": [
    {
     "data": {
      "text/plain": [
       "[('여자/Noun', 0.8112043142318726),\n",
       " ('여자애/Noun', 0.7157272696495056),\n",
       " ('아빠/Noun', 0.7152435779571533),\n",
       " ('몸매/Noun', 0.7090087532997131),\n",
       " ('꼬마/Noun', 0.6917483806610107)]"
      ]
     },
     "execution_count": 14,
     "metadata": {},
     "output_type": "execute_result"
    }
   ],
   "source": [
    "# 남자 + 여배우 - 배우 = ?\n",
    "# 남자 - 배우 = ? - 여배우\n",
    "# ? = 여자\n",
    "w2v_model.wv.most_similar(positive=tokens('남자 여배우'), \n",
    "                          negative=tokens('배우'), topn=5)"
   ]
  }
 ],
 "metadata": {
  "kernelspec": {
   "display_name": "Python 3",
   "language": "python",
   "name": "python3"
  },
  "language_info": {
   "codemirror_mode": {
    "name": "ipython",
    "version": 3
   },
   "file_extension": ".py",
   "mimetype": "text/x-python",
   "name": "python",
   "nbconvert_exporter": "python",
   "pygments_lexer": "ipython3",
   "version": "3.7.5"
  },
  "varInspector": {
   "cols": {
    "lenName": 16,
    "lenType": 16,
    "lenVar": 40
   },
   "kernels_config": {
    "python": {
     "delete_cmd_postfix": "",
     "delete_cmd_prefix": "del ",
     "library": "var_list.py",
     "varRefreshCmd": "print(var_dic_list())"
    },
    "r": {
     "delete_cmd_postfix": ") ",
     "delete_cmd_prefix": "rm(",
     "library": "var_list.r",
     "varRefreshCmd": "cat(var_dic_list()) "
    }
   },
   "types_to_exclude": [
    "module",
    "function",
    "builtin_function_or_method",
    "instance",
    "_Feature"
   ],
   "window_display": false
  }
 },
 "nbformat": 4,
 "nbformat_minor": 2
}
