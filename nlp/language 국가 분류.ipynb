{
 "cells": [
  {
   "cell_type": "markdown",
   "metadata": {},
   "source": [
    "# language 국가 분류"
   ]
  },
  {
   "cell_type": "code",
   "execution_count": 3,
   "metadata": {
    "ExecuteTime": {
     "end_time": "2020-02-10T10:12:08.802213Z",
     "start_time": "2020-02-10T10:12:08.460088Z"
    }
   },
   "outputs": [],
   "source": [
    "import numpy as np\n",
    "from sklearn.naive_bayes import GaussianNB"
   ]
  },
  {
   "cell_type": "code",
   "execution_count": 5,
   "metadata": {
    "ExecuteTime": {
     "end_time": "2020-02-10T10:12:50.936589Z",
     "start_time": "2020-02-10T10:12:50.931648Z"
    }
   },
   "outputs": [],
   "source": [
    "def countChar(string):\n",
    "    counter = np.zeros(65535)\n",
    "    for char in string:\n",
    "        asciiChar = ord(char)\n",
    "        if asciiChar > 65535:\n",
    "            continue\n",
    "        counter[asciiChar] += 1\n",
    "    counter /= len(string)\n",
    "    \n",
    "    return counter\n"
   ]
  },
  {
   "cell_type": "code",
   "execution_count": 15,
   "metadata": {
    "ExecuteTime": {
     "end_time": "2020-02-10T10:17:31.832406Z",
     "start_time": "2020-02-10T10:17:31.811398Z"
    }
   },
   "outputs": [
    {
     "name": "stdout",
     "output_type": "stream",
     "text": [
      "['ko']\n",
      "['ja']\n",
      "['ko']\n"
     ]
    }
   ],
   "source": [
    "koString = '이것은 한국어 문장입니다.'\n",
    "jaString = 'これは日本語の文章です。'\n",
    "enString = 'This is English Sentences.'\n",
    "\n",
    "x_train = [countChar(koString), countChar(jaString), countChar(enString)]\n",
    "y_train = ['ko', 'ja', 'en']\n",
    "\n",
    "clf = GaussianNB() \n",
    "clf.fit(x_train, y_train)\n",
    "\n",
    "for text in ['우리집 고양이', '我が家の猫', 'My Cat']:\n",
    "    predY = clf.predict([countChar(text)])\n",
    "    print(predY)"
   ]
  }
 ],
 "metadata": {
  "kernelspec": {
   "display_name": "Python 3",
   "language": "python",
   "name": "python3"
  },
  "language_info": {
   "codemirror_mode": {
    "name": "ipython",
    "version": 3
   },
   "file_extension": ".py",
   "mimetype": "text/x-python",
   "name": "python",
   "nbconvert_exporter": "python",
   "pygments_lexer": "ipython3",
   "version": "3.7.5"
  },
  "varInspector": {
   "cols": {
    "lenName": 16,
    "lenType": 16,
    "lenVar": 40
   },
   "kernels_config": {
    "python": {
     "delete_cmd_postfix": "",
     "delete_cmd_prefix": "del ",
     "library": "var_list.py",
     "varRefreshCmd": "print(var_dic_list())"
    },
    "r": {
     "delete_cmd_postfix": ") ",
     "delete_cmd_prefix": "rm(",
     "library": "var_list.r",
     "varRefreshCmd": "cat(var_dic_list()) "
    }
   },
   "types_to_exclude": [
    "module",
    "function",
    "builtin_function_or_method",
    "instance",
    "_Feature"
   ],
   "window_display": false
  }
 },
 "nbformat": 4,
 "nbformat_minor": 2
}
