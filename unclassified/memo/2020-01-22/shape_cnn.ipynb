{
 "cells": [
  {
   "cell_type": "markdown",
   "metadata": {
    "ExecuteTime": {
     "end_time": "2020-01-22T01:11:50.101333Z",
     "start_time": "2020-01-22T01:11:50.097345Z"
    }
   },
   "source": [
    "# cnn 연습문제\n",
    "## import"
   ]
  },
  {
   "cell_type": "code",
   "execution_count": 1,
   "metadata": {
    "ExecuteTime": {
     "end_time": "2020-01-22T01:36:11.068774Z",
     "start_time": "2020-01-22T01:36:09.200431Z"
    }
   },
   "outputs": [
    {
     "name": "stderr",
     "output_type": "stream",
     "text": [
      "Using TensorFlow backend.\n"
     ]
    }
   ],
   "source": [
    "import numpy as np\n",
    "import matplotlib.pyplot as plt\n",
    "import cv2\n",
    "\n",
    "from sklearn import datasets\n",
    "from sklearn.model_selection import train_test_split\n",
    "from keras.utils.np_utils import to_categorical\n",
    "from keras.models import Sequential\n",
    "from keras import optimizers\n",
    "from keras.layers import Dense, Activation, Flatten, Conv2D, MaxPooling2D\n",
    "from keras.layers import BatchNormalization, Dropout"
   ]
  },
  {
   "cell_type": "markdown",
   "metadata": {},
   "source": [
    "## train data 생성"
   ]
  },
  {
   "cell_type": "code",
   "execution_count": 2,
   "metadata": {
    "ExecuteTime": {
     "end_time": "2020-01-22T01:36:11.083034Z",
     "start_time": "2020-01-22T01:36:11.070003Z"
    }
   },
   "outputs": [],
   "source": [
    "def img_path(shape, i):\n",
    "    return f'data/train/{shape}/{shape+str(i).zfill(3)}.png'\n",
    "\n",
    "cir = np.array([cv2.imread(img_path('circle', i), 0)\n",
    "                for i in range(1,16)])\n",
    "\n",
    "rec = np.array([cv2.imread(img_path('rectangle', i), 0)\n",
    "                for i in range(1,16)])\n",
    "\n",
    "tri = np.array([cv2.imread(img_path('triangle', i), 0)\n",
    "                for i in range(1,16)])\n",
    "\n",
    "train_x = np.concatenate([cir, rec, tri]).reshape(-1, 24, 24, 1)\n",
    "train_y = np.array([i//15 for i in range(45)])\n",
    "train_y = to_categorical(train_y)"
   ]
  },
  {
   "cell_type": "markdown",
   "metadata": {
    "ExecuteTime": {
     "end_time": "2020-01-22T01:12:30.811454Z",
     "start_time": "2020-01-22T01:12:30.809452Z"
    }
   },
   "source": [
    "## model 생성"
   ]
  },
  {
   "cell_type": "code",
   "execution_count": 3,
   "metadata": {
    "ExecuteTime": {
     "end_time": "2020-01-22T01:36:11.252518Z",
     "start_time": "2020-01-22T01:36:11.083965Z"
    }
   },
   "outputs": [],
   "source": [
    "model = Sequential()\n",
    "\n",
    "model.add(Conv2D(input_shape = (train_x.shape[1], train_x.shape[2], train_x.shape[3]), filters = 32, kernel_size = (3,3), strides = (1,1), padding = 'same'))\n",
    "model.add(BatchNormalization())\n",
    "model.add(Activation('relu'))\n",
    "\n",
    "model.add(Conv2D(filters = 64, kernel_size = (3,3), strides = (1,1), padding = 'same'))\n",
    "model.add(BatchNormalization())\n",
    "model.add(Activation('relu'))\n",
    "\n",
    "model.add(MaxPooling2D(pool_size = (2,2)))\n",
    "\n",
    "model.add(Flatten())\n",
    "\n",
    "model.add(Dense(128))\n",
    "model.add(BatchNormalization())\n",
    "model.add(Activation('relu'))\n",
    "\n",
    "model.add(Dense(3, activation = 'softmax'))\n",
    "\n",
    "adam = optimizers.Adam(lr = 0.001)\n",
    "model.compile(loss = 'categorical_crossentropy', optimizer = adam, metrics = ['accuracy'])"
   ]
  },
  {
   "cell_type": "markdown",
   "metadata": {},
   "source": [
    "## train history 보기"
   ]
  },
  {
   "cell_type": "code",
   "execution_count": 4,
   "metadata": {
    "ExecuteTime": {
     "end_time": "2020-01-22T01:36:20.679724Z",
     "start_time": "2020-01-22T01:36:11.252893Z"
    },
    "scrolled": true
   },
   "outputs": [
    {
     "data": {
      "image/png": "[encoded data removed]",
      "text/plain": [
       "<Figure size 432x288 with 1 Axes>"
      ]
     },
     "metadata": {
      "needs_background": "light"
     },
     "output_type": "display_data"
    }
   ],
   "source": [
    "history = model.fit(train_x, train_y, batch_size = 45, validation_split = 0.2, epochs = 100, verbose = 0)\n",
    "\n",
    "plt.plot(history.history['accuracy'])\n",
    "plt.plot(history.history['val_accuracy'])\n",
    "plt.legend(['training', 'validation'], loc = 'upper left')\n",
    "plt.show()"
   ]
  },
  {
   "cell_type": "markdown",
   "metadata": {
    "ExecuteTime": {
     "end_time": "2020-01-22T01:13:35.961283Z",
     "start_time": "2020-01-22T01:13:35.957262Z"
    }
   },
   "source": [
    "## easy test 데이터 셋 검증"
   ]
  },
  {
   "cell_type": "code",
   "execution_count": 5,
   "metadata": {
    "ExecuteTime": {
     "end_time": "2020-01-22T01:36:20.701676Z",
     "start_time": "2020-01-22T01:36:20.680695Z"
    },
    "scrolled": false
   },
   "outputs": [
    {
     "name": "stdout",
     "output_type": "stream",
     "text": [
      "15/15 [==============================] - 0s 533us/step\n",
      "Test accuracy:  0.9333333373069763\n"
     ]
    }
   ],
   "source": [
    "def img_path(shape, i):\n",
    "    return f'data/test_easy/{shape}/{shape+str(i).zfill(3)}.png'\n",
    "\n",
    "t_cir = np.array([cv2.imread(img_path('circle', i), 0)\n",
    "                  for i in range(16,21)]).reshape(-1, 24, 24, 1)\n",
    "\n",
    "t_rec = np.array([cv2.imread(img_path('rectangle', i), 0)\n",
    "                  for i in range(16,21)]).reshape(-1, 24, 24, 1)\n",
    "\n",
    "t_tri = np.array([cv2.imread(img_path('triangle', i), 0)\n",
    "                  for i in range(16,21)]).reshape(-1, 24, 24, 1)\n",
    "\n",
    "test_x = np.concatenate([t_cir, t_rec, t_tri])\n",
    "test_y = np.array([i//5 for i in range(15)])\n",
    "test_y = to_categorical(test_y)\n",
    "\n",
    "results = model.evaluate(test_x, test_y)\n",
    "print('Test accuracy: ', results[1])"
   ]
  },
  {
   "cell_type": "markdown",
   "metadata": {
    "ExecuteTime": {
     "end_time": "2020-01-22T01:14:02.483408Z",
     "start_time": "2020-01-22T01:14:02.467772Z"
    }
   },
   "source": [
    "## normal 데이터 셋 검증"
   ]
  },
  {
   "cell_type": "code",
   "execution_count": 6,
   "metadata": {
    "ExecuteTime": {
     "end_time": "2020-01-22T01:36:20.722683Z",
     "start_time": "2020-01-22T01:36:20.702653Z"
    }
   },
   "outputs": [
    {
     "name": "stdout",
     "output_type": "stream",
     "text": [
      "15/15 [==============================] - 0s 598us/step\n",
      "Test accuracy:  0.3333333432674408\n"
     ]
    }
   ],
   "source": [
    "def img_path(shape, i):\n",
    "    return f'data/test/{shape}/{shape+str(i).zfill(3)}.png'\n",
    "\n",
    "t_cir = np.array([cv2.imread(img_path('circle', i), 0)\n",
    "                  for i in range(21,26)]).reshape(-1, 24, 24, 1)\n",
    "\n",
    "t_rec = np.array([cv2.imread(img_path('rectangle', i), 0)\n",
    "                  for i in range(21,26)]).reshape(-1, 24, 24, 1)\n",
    "\n",
    "t_tri = np.array([cv2.imread(img_path('triangle', i), 0)\n",
    "                  for i in range(21,26)]).reshape(-1, 24, 24, 1)\n",
    "\n",
    "test_x = np.concatenate([t_cir, t_rec, t_tri])\n",
    "test_y = np.array([i//5 for i in range(15)])\n",
    "test_y = to_categorical(test_y)\n",
    "\n",
    "results = model.evaluate(test_x, test_y)\n",
    "print('Test accuracy: ', results[1])"
   ]
  },
  {
   "cell_type": "markdown",
   "metadata": {},
   "source": [
    "## 필터의 결과값 보기"
   ]
  },
  {
   "cell_type": "code",
   "execution_count": 10,
   "metadata": {
    "ExecuteTime": {
     "end_time": "2020-01-22T04:20:39.874583Z",
     "start_time": "2020-01-22T04:20:39.868599Z"
    },
    "scrolled": true
   },
   "outputs": [
    {
     "name": "stdout",
     "output_type": "stream",
     "text": [
      "Model: \"sequential_1\"\n",
      "_________________________________________________________________\n",
      "Layer (type)                 Output Shape              Param #   \n",
      "=================================================================\n",
      "conv2d_1 (Conv2D)            (None, 24, 24, 32)        320       \n",
      "_________________________________________________________________\n",
      "batch_normalization_1 (Batch (None, 24, 24, 32)        128       \n",
      "_________________________________________________________________\n",
      "activation_1 (Activation)    (None, 24, 24, 32)        0         \n",
      "_________________________________________________________________\n",
      "conv2d_2 (Conv2D)            (None, 24, 24, 64)        18496     \n",
      "_________________________________________________________________\n",
      "batch_normalization_2 (Batch (None, 24, 24, 64)        256       \n",
      "_________________________________________________________________\n",
      "activation_2 (Activation)    (None, 24, 24, 64)        0         \n",
      "_________________________________________________________________\n",
      "flatten_1 (Flatten)          (None, 36864)             0         \n",
      "_________________________________________________________________\n",
      "dense_1 (Dense)              (None, 128)               4718720   \n",
      "_________________________________________________________________\n",
      "batch_normalization_3 (Batch (None, 128)               512       \n",
      "_________________________________________________________________\n",
      "activation_3 (Activation)    (None, 128)               0         \n",
      "_________________________________________________________________\n",
      "dense_2 (Dense)              (None, 3)                 387       \n",
      "=================================================================\n",
      "Total params: 4,738,819\n",
      "Trainable params: 4,738,371\n",
      "Non-trainable params: 448\n",
      "_________________________________________________________________\n"
     ]
    }
   ],
   "source": [
    "model.summary()"
   ]
  },
  {
   "cell_type": "code",
   "execution_count": 21,
   "metadata": {
    "ExecuteTime": {
     "end_time": "2020-01-22T04:26:32.619193Z",
     "start_time": "2020-01-22T04:26:32.453239Z"
    },
    "scrolled": true
   },
   "outputs": [
    {
     "data": {
      "image/png": "[encoded data removed]",
      "text/plain": [
       "<Figure size 432x288 with 1 Axes>"
      ]
     },
     "metadata": {
      "needs_background": "light"
     },
     "output_type": "display_data"
    },
    {
     "data": {
      "text/plain": [
       "<matplotlib.image.AxesImage at 0x2a8a337d248>"
      ]
     },
     "execution_count": 21,
     "metadata": {},
     "output_type": "execute_result"
    },
    {
     "data": {
      "image/png": "[encoded data removed]",
      "text/plain": [
       "<Figure size 432x288 with 1 Axes>"
      ]
     },
     "metadata": {
      "needs_background": "light"
     },
     "output_type": "display_data"
    }
   ],
   "source": [
    "from keras.models import Model\n",
    "\n",
    "layer_model = Model(inputs=model.input,\n",
    "                    outputs=model.layers[0].output)\n",
    "output = layer_model.predict(test_x)\n",
    "\n",
    "plt.imshow(test_x[0,:,:,0], cmap='gray') # [데이터row, 행, 열, 채널(gray)]\n",
    "plt.show()\n",
    "\n",
    "plt.imshow(output[0,:,:,0], cmap='gray') # 5번째 필터를 적용한 0번째 이미지\n"
   ]
  },
  {
   "cell_type": "code",
   "execution_count": 33,
   "metadata": {
    "ExecuteTime": {
     "end_time": "2020-01-22T04:52:22.586794Z",
     "start_time": "2020-01-22T04:52:22.331315Z"
    },
    "scrolled": true
   },
   "outputs": [
    {
     "data": {
      "image/png": "[encoded data removed]",
      "text/plain": [
       "<Figure size 432x288 with 1 Axes>"
      ]
     },
     "metadata": {
      "needs_background": "light"
     },
     "output_type": "display_data"
    },
    {
     "data": {
      "image/png": "[encoded data removed]",
      "text/plain": [
       "<Figure size 432x288 with 1 Axes>"
      ]
     },
     "metadata": {
      "needs_background": "light"
     },
     "output_type": "display_data"
    },
    {
     "data": {
      "image/png": "[encoded data removed]",
      "text/plain": [
       "<Figure size 432x288 with 1 Axes>"
      ]
     },
     "metadata": {
      "needs_background": "light"
     },
     "output_type": "display_data"
    }
   ],
   "source": [
    "from keras.models import Model\n",
    "\n",
    "# 0번 레이어를 새 모델로 생성\n",
    "layer_model = Model(inputs=model.input,\n",
    "                    outputs=model.layers[0].output)\n",
    "output = layer_model.predict(test_x)\n",
    "\n",
    "iFilter = 5\n",
    "iImg = 1\n",
    "\n",
    "# iImg 번 이미지\n",
    "plt.imshow(test_x[iImg,:,:,0], cmap='gray')\n",
    "plt.show()\n",
    "\n",
    "# filter\n",
    "filters, bias = model.layers[0].get_weights()\n",
    "# filtets.shape = (3, 3, 1, 32)\n",
    "# iFilter에 대한 필터\n",
    "f = filters[:,:,0,iFilter]\n",
    "plt.imshow(f, cmap='gray')\n",
    "plt.show()\n",
    "\n",
    "# 출력\n",
    "plt.imshow(output[iImg,:,:, iFilter], cmap='gray')\n",
    "plt.show()"
   ]
  },
  {
   "cell_type": "code",
   "execution_count": 24,
   "metadata": {
    "ExecuteTime": {
     "end_time": "2020-01-22T04:46:39.154459Z",
     "start_time": "2020-01-22T04:46:39.085594Z"
    }
   },
   "outputs": [
    {
     "data": {
      "text/plain": [
       "(15, 36864)"
      ]
     },
     "execution_count": 24,
     "metadata": {},
     "output_type": "execute_result"
    }
   ],
   "source": [
    "layer_model = Model(inputs=model.input,\n",
    "                    outputs=model.get_layer(\"flatten_1\").output)\n",
    "output = layer_model.predict(test_x)\n",
    "\n",
    "output.shape"
   ]
  },
  {
   "cell_type": "markdown",
   "metadata": {},
   "source": [
    "## 정답률 수동 계산"
   ]
  },
  {
   "cell_type": "code",
   "execution_count": 40,
   "metadata": {
    "ExecuteTime": {
     "end_time": "2020-01-22T05:05:40.796141Z",
     "start_time": "2020-01-22T05:05:40.702309Z"
    }
   },
   "outputs": [
    {
     "name": "stdout",
     "output_type": "stream",
     "text": [
      "예측 :  [2 2 2 2 2 2 2 2 2 2 2 2 2 2 2]\n",
      "정답 :  [0 0 0 0 0 1 1 1 1 1 2 2 2 2 2]\n",
      "정답률 :  0.3333333333333333\n"
     ]
    }
   ],
   "source": [
    "layer_model = Model(inputs=model.input,\n",
    "                    outputs=model.get_layer('dense_2').output)\n",
    "output = layer_model.predict(test_x)\n",
    "\n",
    "P = np.argmax(output, axis=1)\n",
    "T = np.argmax(test_y, axis=1)\n",
    "\n",
    "print(\"예측 : \", P)\n",
    "print(\"정답 : \", T)\n",
    "\n",
    "print('정답률 : ', sum(P==T)*1 / len(P))"
   ]
  }
 ],
 "metadata": {
  "kernelspec": {
   "display_name": "Python 3",
   "language": "python",
   "name": "python3"
  },
  "language_info": {
   "codemirror_mode": {
    "name": "ipython",
    "version": 3
   },
   "file_extension": ".py",
   "mimetype": "text/x-python",
   "name": "python",
   "nbconvert_exporter": "python",
   "pygments_lexer": "ipython3",
   "version": "3.7.5"
  },
  "varInspector": {
   "cols": {
    "lenName": 16,
    "lenType": 16,
    "lenVar": 40
   },
   "kernels_config": {
    "python": {
     "delete_cmd_postfix": "",
     "delete_cmd_prefix": "del ",
     "library": "var_list.py",
     "varRefreshCmd": "print(var_dic_list())"
    },
    "r": {
     "delete_cmd_postfix": ") ",
     "delete_cmd_prefix": "rm(",
     "library": "var_list.r",
     "varRefreshCmd": "cat(var_dic_list()) "
    }
   },
   "types_to_exclude": [
    "module",
    "function",
    "builtin_function_or_method",
    "instance",
    "_Feature"
   ],
   "window_display": false
  }
 },
 "nbformat": 4,
 "nbformat_minor": 2
}
