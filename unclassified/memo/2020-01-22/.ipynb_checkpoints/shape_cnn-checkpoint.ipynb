{
 "cells": [
  {
   "cell_type": "markdown",
   "metadata": {
    "ExecuteTime": {
     "end_time": "2020-01-22T01:11:50.101333Z",
     "start_time": "2020-01-22T01:11:50.097345Z"
    }
   },
   "source": [
    "# cnn 연습문제\n",
    "## import"
   ]
  },
  {
   "cell_type": "code",
   "execution_count": 1,
   "metadata": {
    "ExecuteTime": {
     "end_time": "2020-01-22T01:17:48.390833Z",
     "start_time": "2020-01-22T01:17:46.524813Z"
    }
   },
   "outputs": [
    {
     "name": "stderr",
     "output_type": "stream",
     "text": [
      "Using TensorFlow backend.\n"
     ]
    }
   ],
   "source": [
    "import numpy as np\n",
    "import matplotlib.pyplot as plt\n",
    "import cv2\n",
    "\n",
    "from sklearn import datasets\n",
    "from sklearn.model_selection import train_test_split\n",
    "from keras.utils.np_utils import to_categorical\n",
    "from keras.models import Sequential\n",
    "from keras import optimizers\n",
    "from keras.layers import Dense, Activation, Flatten, Conv2D, MaxPooling2D\n",
    "from keras.layers import BatchNormalization, Dropout"
   ]
  },
  {
   "cell_type": "markdown",
   "metadata": {},
   "source": [
    "## train data 생성"
   ]
  },
  {
   "cell_type": "code",
   "execution_count": 2,
   "metadata": {
    "ExecuteTime": {
     "end_time": "2020-01-22T01:17:48.418068Z",
     "start_time": "2020-01-22T01:17:48.390833Z"
    }
   },
   "outputs": [],
   "source": [
    "def img_path(shape, i):\n",
    "    return f'data/train/{shape}/{shape+str(i).zfill(3)}.png'\n",
    "\n",
    "cir = np.array([cv2.imread(img_path('circle', i), 0)\n",
    "                for i in range(1,16)]).reshape(-1, 24, 24, 1)\n",
    "\n",
    "rec = np.array([cv2.imread(img_path('rectangle', i), 0)\n",
    "                for i in range(1,16)]).reshape(-1, 24, 24, 1)\n",
    "\n",
    "tri = np.array([cv2.imread(img_path('triangle', i), 0)\n",
    "                for i in range(1,16)]).reshape(-1, 24, 24, 1)\n",
    "\n",
    "train_x = np.concatenate([cir, rec, tri])\n",
    "train_y = np.array([i//15 for i in range(45)])\n",
    "train_y = to_categorical(train_y)"
   ]
  },
  {
   "cell_type": "markdown",
   "metadata": {
    "ExecuteTime": {
     "end_time": "2020-01-22T01:12:30.811454Z",
     "start_time": "2020-01-22T01:12:30.809452Z"
    }
   },
   "source": [
    "## model 생성"
   ]
  },
  {
   "cell_type": "code",
   "execution_count": 3,
   "metadata": {
    "ExecuteTime": {
     "end_time": "2020-01-22T01:17:48.505399Z",
     "start_time": "2020-01-22T01:17:48.418068Z"
    }
   },
   "outputs": [],
   "source": [
    "model = Sequential()\n",
    "\n",
    "model.add(Conv2D(input_shape = (train_x.shape[1], train_x.shape[2], train_x.shape[3]), filters = 32, kernel_size = (3,3), strides = (1,1), padding = 'same'))\n",
    "model.add(Activation('relu'))\n",
    "\n",
    "model.add(Conv2D(filters = 64, kernel_size = (3,3), strides = (1,1), padding = 'same'))\n",
    "model.add(Activation('relu'))\n",
    "\n",
    "model.add(MaxPooling2D(pool_size = (2,2)))\n",
    "\n",
    "model.add(Flatten())\n",
    "\n",
    "model.add(Dense(50, activation = 'relu'))\n",
    "model.add(Dense(3, activation = 'softmax'))\n",
    "\n",
    "adam = optimizers.Adam(lr = 0.001)\n",
    "model.compile(loss = 'categorical_crossentropy', optimizer = adam, metrics = ['accuracy'])"
   ]
  },
  {
   "cell_type": "markdown",
   "metadata": {},
   "source": [
    "## train history 보기"
   ]
  },
  {
   "cell_type": "code",
   "execution_count": 4,
   "metadata": {
    "ExecuteTime": {
     "end_time": "2020-01-22T01:17:51.801063Z",
     "start_time": "2020-01-22T01:17:48.506222Z"
    }
   },
   "outputs": [
    {
     "data": {
      "image/png": "[encoded data removed]",
      "text/plain": [
       "<Figure size 432x288 with 1 Axes>"
      ]
     },
     "metadata": {
      "needs_background": "light"
     },
     "output_type": "display_data"
    }
   ],
   "source": [
    "history = model.fit(train_x, train_y, batch_size = 50, validation_split = 0.2, epochs = 100, verbose = 0)\n",
    "\n",
    "plt.plot(history.history['accuracy'])\n",
    "plt.plot(history.history['val_accuracy'])\n",
    "plt.legend(['training', 'validation'], loc = 'upper left')\n",
    "plt.show()"
   ]
  },
  {
   "cell_type": "markdown",
   "metadata": {
    "ExecuteTime": {
     "end_time": "2020-01-22T01:13:35.961283Z",
     "start_time": "2020-01-22T01:13:35.957262Z"
    }
   },
   "source": [
    "## easy test 데이터 셋 검증"
   ]
  },
  {
   "cell_type": "code",
   "execution_count": 5,
   "metadata": {
    "ExecuteTime": {
     "end_time": "2020-01-22T01:17:51.817043Z",
     "start_time": "2020-01-22T01:17:51.802071Z"
    }
   },
   "outputs": [
    {
     "name": "stdout",
     "output_type": "stream",
     "text": [
      "15/15 [==============================] - 0s 199us/step\n",
      "Test accuracy:  0.8666666746139526\n"
     ]
    }
   ],
   "source": [
    "def img_path(shape, i):\n",
    "    return f'data/test_easy/{shape}/{shape+str(i).zfill(3)}.png'\n",
    "\n",
    "t_cir = np.array([cv2.imread(img_path('circle', i), 0)\n",
    "                  for i in range(16,21)]).reshape(-1, 24, 24, 1)\n",
    "\n",
    "t_rec = np.array([cv2.imread(img_path('rectangle', i), 0)\n",
    "                  for i in range(16,21)]).reshape(-1, 24, 24, 1)\n",
    "\n",
    "t_tri = np.array([cv2.imread(img_path('triangle', i), 0)\n",
    "                  for i in range(16,21)]).reshape(-1, 24, 24, 1)\n",
    "\n",
    "test_x = np.concatenate([t_cir, t_rec, t_tri])\n",
    "test_y = np.array([i//5 for i in range(15)])\n",
    "test_y = to_categorical(test_y)\n",
    "\n",
    "results = model.evaluate(test_x, test_y)\n",
    "print('Test accuracy: ', results[1])"
   ]
  },
  {
   "cell_type": "markdown",
   "metadata": {
    "ExecuteTime": {
     "end_time": "2020-01-22T01:14:02.483408Z",
     "start_time": "2020-01-22T01:14:02.467772Z"
    }
   },
   "source": [
    "## normal 데이터 셋 검증"
   ]
  },
  {
   "cell_type": "code",
   "execution_count": 6,
   "metadata": {
    "ExecuteTime": {
     "end_time": "2020-01-22T01:17:51.833981Z",
     "start_time": "2020-01-22T01:17:51.818063Z"
    }
   },
   "outputs": [
    {
     "name": "stdout",
     "output_type": "stream",
     "text": [
      "15/15 [==============================] - 0s 200us/step\n",
      "Test accuracy:  0.3333333432674408\n"
     ]
    }
   ],
   "source": [
    "def img_path(shape, i):\n",
    "    return f'data/test/{shape}/{shape+str(i).zfill(3)}.png'\n",
    "\n",
    "t_cir = np.array([cv2.imread(img_path('circle', i), 0)\n",
    "                  for i in range(21,26)]).reshape(-1, 24, 24, 1)\n",
    "\n",
    "t_rec = np.array([cv2.imread(img_path('rectangle', i), 0)\n",
    "                  for i in range(21,26)]).reshape(-1, 24, 24, 1)\n",
    "\n",
    "t_tri = np.array([cv2.imread(img_path('triangle', i), 0)\n",
    "                  for i in range(21,26)]).reshape(-1, 24, 24, 1)\n",
    "\n",
    "test_x = np.concatenate([t_cir, t_rec, t_tri])\n",
    "test_y = np.array([i//5 for i in range(15)])\n",
    "test_y = to_categorical(test_y)\n",
    "\n",
    "results = model.evaluate(test_x, test_y)\n",
    "print('Test accuracy: ', results[1])"
   ]
  }
 ],
 "metadata": {
  "kernelspec": {
   "display_name": "Python 3",
   "language": "python",
   "name": "python3"
  },
  "language_info": {
   "codemirror_mode": {
    "name": "ipython",
    "version": 3
   },
   "file_extension": ".py",
   "mimetype": "text/x-python",
   "name": "python",
   "nbconvert_exporter": "python",
   "pygments_lexer": "ipython3",
   "version": "3.7.5"
  },
  "varInspector": {
   "cols": {
    "lenName": 16,
    "lenType": 16,
    "lenVar": 40
   },
   "kernels_config": {
    "python": {
     "delete_cmd_postfix": "",
     "delete_cmd_prefix": "del ",
     "library": "var_list.py",
     "varRefreshCmd": "print(var_dic_list())"
    },
    "r": {
     "delete_cmd_postfix": ") ",
     "delete_cmd_prefix": "rm(",
     "library": "var_list.r",
     "varRefreshCmd": "cat(var_dic_list()) "
    }
   },
   "types_to_exclude": [
    "module",
    "function",
    "builtin_function_or_method",
    "instance",
    "_Feature"
   ],
   "window_display": false
  }
 },
 "nbformat": 4,
 "nbformat_minor": 2
}
