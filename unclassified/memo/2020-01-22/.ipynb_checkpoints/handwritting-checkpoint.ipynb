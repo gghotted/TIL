{
 "cells": [
  {
   "cell_type": "code",
   "execution_count": 1,
   "metadata": {
    "ExecuteTime": {
     "end_time": "2020-01-22T07:47:28.863152Z",
     "start_time": "2020-01-22T07:47:27.136878Z"
    }
   },
   "outputs": [
    {
     "name": "stderr",
     "output_type": "stream",
     "text": [
      "Using TensorFlow backend.\n"
     ]
    }
   ],
   "source": [
    "import numpy as np\n",
    "import tensorflow as tf\n",
    "from matplotlib import pyplot as plt\n",
    "from keras.models import Sequential\n",
    "from keras.layers import Dense\n",
    "from keras.layers import Flatten\n",
    "from keras.layers.convolutional import Conv2D\n",
    "from keras.layers.convolutional import MaxPooling2D\n",
    "from keras.models import Sequential\n",
    "from keras.layers import Activation, Dense\n",
    "from keras import optimizers\n",
    "from keras.layers import BatchNormalization\n",
    "from keras.layers import Dropout\n",
    "from keras.utils.np_utils import to_categorical\n",
    "import cv2\n"
   ]
  },
  {
   "cell_type": "markdown",
   "metadata": {},
   "source": [
    "# 도형 준비"
   ]
  },
  {
   "cell_type": "code",
   "execution_count": 2,
   "metadata": {
    "ExecuteTime": {
     "end_time": "2020-01-22T07:47:28.878199Z",
     "start_time": "2020-01-22T07:47:28.864215Z"
    }
   },
   "outputs": [],
   "source": [
    "# mnist    60000x28x28 처럼 만든다.    label은 1차원\n",
    "\n",
    "X_train = np.zeros((15*3, 24,24))\n",
    "y_train = np.zeros(15*3)\n",
    "\n",
    "for i in range(15) :    \n",
    "    img = cv2.imread('data/train/circle/circle{0:03d}.png'.format(i+1), 0)        \n",
    "    X_train[i,:,:] = img\n",
    "    y_train[i] = 0\n",
    "    \n",
    "for i in range(15) :    \n",
    "    img = cv2.imread('data/train/rectangle/rectangle{0:03d}.png'.format(i+1), 0)        \n",
    "    X_train[15+i,:,:] = img\n",
    "    y_train[15+i] = 1\n",
    "    \n",
    "for i in range(15) :    \n",
    "    img = cv2.imread('data/train/triangle/triangle{0:03d}.png'.format(i+1), 0)        \n",
    "    X_train[30+i,:,:] = img\n",
    "    y_train[30+i] = 2      "
   ]
  },
  {
   "cell_type": "code",
   "execution_count": 3,
   "metadata": {
    "ExecuteTime": {
     "end_time": "2020-01-22T07:47:28.966906Z",
     "start_time": "2020-01-22T07:47:28.879110Z"
    }
   },
   "outputs": [
    {
     "data": {
      "image/png": "[encoded data removed]",
      "text/plain": [
       "<Figure size 432x288 with 1 Axes>"
      ]
     },
     "metadata": {
      "needs_background": "light"
     },
     "output_type": "display_data"
    },
    {
     "name": "stdout",
     "output_type": "stream",
     "text": [
      "Label:  2.0\n"
     ]
    }
   ],
   "source": [
    "plt.imshow(X_train[44], cmap=\"gray\")    # show first number in the dataset\n",
    "plt.show()\n",
    "print('Label: ', y_train[44])"
   ]
  },
  {
   "cell_type": "code",
   "execution_count": 4,
   "metadata": {
    "ExecuteTime": {
     "end_time": "2020-01-22T07:47:28.975939Z",
     "start_time": "2020-01-22T07:47:28.967955Z"
    }
   },
   "outputs": [],
   "source": [
    "# mnist    60000x28x28 처럼 만든다.    label은 1차원\n",
    "\n",
    "X_test = np.zeros((5*3, 24,24))\n",
    "y_test = np.zeros(5*3)\n",
    "\n",
    "for i in range(5) :    \n",
    "    img = cv2.imread('data/test_easy/circle/circle{0:03d}.png'.format(i+16), 0)        \n",
    "    X_test[i,:,:] = img\n",
    "    y_test[i] = 0\n",
    "    \n",
    "for i in range(5) :    \n",
    "    img = cv2.imread('data/test_easy/rectangle/rectangle{0:03d}.png'.format(i+16), 0)        \n",
    "    X_test[5+i,:,:] = img\n",
    "    y_test[5+i] = 1\n",
    "    \n",
    "for i in range(5) :    \n",
    "    img = cv2.imread('data/test_easy/triangle/triangle{0:03d}.png'.format(i+16), 0)        \n",
    "    X_test[10+i,:,:] = img\n",
    "    y_test[10+i] = 2"
   ]
  },
  {
   "cell_type": "code",
   "execution_count": 5,
   "metadata": {
    "ExecuteTime": {
     "end_time": "2020-01-22T07:47:29.057718Z",
     "start_time": "2020-01-22T07:47:28.976847Z"
    }
   },
   "outputs": [
    {
     "data": {
      "image/png": "[encoded data removed]",
      "text/plain": [
       "<Figure size 432x288 with 1 Axes>"
      ]
     },
     "metadata": {
      "needs_background": "light"
     },
     "output_type": "display_data"
    },
    {
     "name": "stdout",
     "output_type": "stream",
     "text": [
      "Label:  2.0\n"
     ]
    }
   ],
   "source": [
    "plt.imshow(X_test[14], cmap=\"gray\")    # show first number in the dataset\n",
    "plt.show()\n",
    "print('Label: ', y_test[14])"
   ]
  },
  {
   "cell_type": "code",
   "execution_count": 6,
   "metadata": {
    "ExecuteTime": {
     "end_time": "2020-01-22T07:47:29.062619Z",
     "start_time": "2020-01-22T07:47:29.058670Z"
    }
   },
   "outputs": [
    {
     "name": "stdout",
     "output_type": "stream",
     "text": [
      "(45, 576)\n",
      "(15, 576)\n"
     ]
    }
   ],
   "source": [
    "# reshaping X data: (n, 28, 28) => (n, )\n",
    "X_train = X_train.reshape((X_train.shape[0], -1))\n",
    "X_test = X_test.reshape((X_test.shape[0], -1))\n",
    "print(X_train.shape)\n",
    "print(X_test.shape)"
   ]
  },
  {
   "cell_type": "code",
   "execution_count": 7,
   "metadata": {
    "ExecuteTime": {
     "end_time": "2020-01-22T07:47:29.068603Z",
     "start_time": "2020-01-22T07:47:29.063616Z"
    }
   },
   "outputs": [
    {
     "name": "stdout",
     "output_type": "stream",
     "text": [
      "(45, 576) (15, 576) (45, 3) (15, 3)\n"
     ]
    }
   ],
   "source": [
    "# converting y data into categorical (one-hot encoding)\n",
    "y_train = to_categorical(y_train)\n",
    "y_test = to_categorical(y_test)\n",
    "print(X_train.shape, X_test.shape, y_train.shape, y_test.shape)"
   ]
  },
  {
   "cell_type": "markdown",
   "metadata": {},
   "source": [
    "# DNN 학습"
   ]
  },
  {
   "cell_type": "code",
   "execution_count": 8,
   "metadata": {
    "ExecuteTime": {
     "end_time": "2020-01-22T07:47:29.220534Z",
     "start_time": "2020-01-22T07:47:29.069600Z"
    }
   },
   "outputs": [],
   "source": [
    "model = Sequential()\n",
    "model.add(Dense(50, input_shape = (576, )))\n",
    "model.add(BatchNormalization())\n",
    "model.add(Activation('relu'))   #relu, sigmoid\n",
    "model.add(Dropout(0.2))         \n",
    "model.add(Dense(50))\n",
    "model.add(BatchNormalization())\n",
    "model.add(Activation('relu'))\n",
    "model.add(Dropout(0.2))         \n",
    "model.add(Dense(50))\n",
    "model.add(BatchNormalization())\n",
    "model.add(Activation('relu'))       # activatin 전에 batch  후에 dropout\n",
    "model.add(Dropout(0.2))         \n",
    "model.add(Dense(3))\n",
    "model.add(Activation('softmax'))   # soft max에는 적용하지 않는다.\n",
    "model.compile(optimizer = \"adam\", loss = 'categorical_crossentropy', metrics = ['accuracy'])\n"
   ]
  },
  {
   "cell_type": "code",
   "execution_count": 9,
   "metadata": {
    "ExecuteTime": {
     "end_time": "2020-01-22T07:47:32.224137Z",
     "start_time": "2020-01-22T07:47:29.224890Z"
    }
   },
   "outputs": [
    {
     "data": {
      "image/png": "[encoded data removed]",
      "text/plain": [
       "<Figure size 432x288 with 1 Axes>"
      ]
     },
     "metadata": {
      "needs_background": "light"
     },
     "output_type": "display_data"
    }
   ],
   "source": [
    "# 모델 새로 생성하지 않으면 weight 초기화 되지 않는다. 대야한 network 구성해 본다.\n",
    "# 여러번 해볼 필요가 있다. \n",
    "history = model.fit(X_train, y_train, batch_size = 256, validation_data =(X_test, y_test), epochs = 500, verbose = 0)\n",
    "\n",
    "plt.plot(history.history['accuracy'])\n",
    "plt.plot(history.history['val_accuracy'])\n",
    "plt.legend(['training', 'validation'], loc = 'upper left')\n",
    "plt.show()"
   ]
  },
  {
   "cell_type": "code",
   "execution_count": 10,
   "metadata": {
    "ExecuteTime": {
     "end_time": "2020-01-22T07:47:32.231044Z",
     "start_time": "2020-01-22T07:47:32.225060Z"
    }
   },
   "outputs": [
    {
     "name": "stdout",
     "output_type": "stream",
     "text": [
      "15/15 [==============================] - 0s 66us/step\n",
      "[0.16499212384223938, 0.9333333373069763]\n"
     ]
    }
   ],
   "source": [
    "results = model.evaluate(X_test, y_test)\n",
    "print(results)"
   ]
  },
  {
   "cell_type": "markdown",
   "metadata": {},
   "source": [
    "# CNN 학습\n",
    "\n",
    "\n",
    "- 데이터는 기존 2차원 -> 4차원 이어야 한다.\n",
    "- 레이블은 변화 없다.\n",
    "- (45, 24, 24, 1)\n",
    "- (15, 24, 24, 1)\n",
    "- (45, 10)\n",
    "- (15, 10)\n",
    "-  2차원을 3차원으로 reshape하고, 다시 4차원으로 확장 필요. 어렵다.\n",
    "- 이미지 읽는 코드 다시 실행시킨다.\n"
   ]
  },
  {
   "cell_type": "markdown",
   "metadata": {},
   "source": [
    "##  이미지 다시 읽어서 재구성"
   ]
  },
  {
   "cell_type": "code",
   "execution_count": 11,
   "metadata": {
    "ExecuteTime": {
     "end_time": "2020-01-22T07:47:32.473396Z",
     "start_time": "2020-01-22T07:47:32.233040Z"
    }
   },
   "outputs": [
    {
     "ename": "IndexError",
     "evalue": "tuple index out of range",
     "output_type": "error",
     "traceback": [
      "\u001b[1;31m---------------------------------------------------------------------------\u001b[0m",
      "\u001b[1;31mIndexError\u001b[0m                                Traceback (most recent call last)",
      "\u001b[1;32m<ipython-input-11-2397697ac932>\u001b[0m in \u001b[0;36m<module>\u001b[1;34m\u001b[0m\n\u001b[1;32m----> 1\u001b[1;33m \u001b[0mX_train\u001b[0m \u001b[1;33m=\u001b[0m \u001b[0mX_train\u001b[0m\u001b[1;33m.\u001b[0m\u001b[0mreshape\u001b[0m\u001b[1;33m(\u001b[0m\u001b[1;33m(\u001b[0m\u001b[0mX_train\u001b[0m\u001b[1;33m.\u001b[0m\u001b[0mshape\u001b[0m\u001b[1;33m[\u001b[0m\u001b[1;36m0\u001b[0m\u001b[1;33m]\u001b[0m\u001b[1;33m,\u001b[0m \u001b[0mX_train\u001b[0m\u001b[1;33m.\u001b[0m\u001b[0mshape\u001b[0m\u001b[1;33m[\u001b[0m\u001b[1;36m1\u001b[0m\u001b[1;33m]\u001b[0m\u001b[1;33m,\u001b[0m \u001b[0mX_train\u001b[0m\u001b[1;33m.\u001b[0m\u001b[0mshape\u001b[0m\u001b[1;33m[\u001b[0m\u001b[1;36m2\u001b[0m\u001b[1;33m]\u001b[0m\u001b[1;33m,\u001b[0m \u001b[1;36m1\u001b[0m\u001b[1;33m)\u001b[0m\u001b[1;33m)\u001b[0m  \u001b[1;31m# 갯수, w, h, 1\u001b[0m\u001b[1;33m\u001b[0m\u001b[1;33m\u001b[0m\u001b[0m\n\u001b[0m\u001b[0;32m      2\u001b[0m \u001b[0mX_test\u001b[0m \u001b[1;33m=\u001b[0m \u001b[0mX_test\u001b[0m\u001b[1;33m.\u001b[0m\u001b[0mreshape\u001b[0m\u001b[1;33m(\u001b[0m\u001b[1;33m(\u001b[0m\u001b[0mX_test\u001b[0m\u001b[1;33m.\u001b[0m\u001b[0mshape\u001b[0m\u001b[1;33m[\u001b[0m\u001b[1;36m0\u001b[0m\u001b[1;33m]\u001b[0m\u001b[1;33m,\u001b[0m \u001b[0mX_test\u001b[0m\u001b[1;33m.\u001b[0m\u001b[0mshape\u001b[0m\u001b[1;33m[\u001b[0m\u001b[1;36m1\u001b[0m\u001b[1;33m]\u001b[0m\u001b[1;33m,\u001b[0m \u001b[0mX_test\u001b[0m\u001b[1;33m.\u001b[0m\u001b[0mshape\u001b[0m\u001b[1;33m[\u001b[0m\u001b[1;36m2\u001b[0m\u001b[1;33m]\u001b[0m\u001b[1;33m,\u001b[0m \u001b[1;36m1\u001b[0m\u001b[1;33m)\u001b[0m\u001b[1;33m)\u001b[0m  \u001b[1;31m# 갯수, w, h, 1\u001b[0m\u001b[1;33m\u001b[0m\u001b[1;33m\u001b[0m\u001b[0m\n",
      "\u001b[1;31mIndexError\u001b[0m: tuple index out of range"
     ]
    }
   ],
   "source": [
    "X_train = X_train.reshape((X_train.shape[0], X_train.shape[1], X_train.shape[2], 1))  # 갯수, w, h, 1\n",
    "X_test = X_test.reshape((X_test.shape[0], X_test.shape[1], X_test.shape[2], 1))  # 갯수, w, h, 1\n"
   ]
  },
  {
   "cell_type": "code",
   "execution_count": null,
   "metadata": {
    "ExecuteTime": {
     "end_time": "2020-01-22T07:47:32.476388Z",
     "start_time": "2020-01-22T07:47:27.145Z"
    }
   },
   "outputs": [],
   "source": [
    "# 위에서 코드 실행하면 1차원 으로 바뀐다.\n",
    "y_train = to_categorical(y_train)\n",
    "y_test = to_categorical(y_test)"
   ]
  },
  {
   "cell_type": "code",
   "execution_count": null,
   "metadata": {
    "ExecuteTime": {
     "end_time": "2020-01-22T07:47:32.477385Z",
     "start_time": "2020-01-22T07:47:27.147Z"
    }
   },
   "outputs": [],
   "source": [
    "print(X_train.shape)\n",
    "print(X_test.shape)\n",
    "print(y_train.shape)\n",
    "print(y_test.shape)"
   ]
  },
  {
   "cell_type": "markdown",
   "metadata": {},
   "source": [
    "## reshape을 통해 재구성"
   ]
  },
  {
   "cell_type": "code",
   "execution_count": null,
   "metadata": {
    "ExecuteTime": {
     "end_time": "2020-01-22T07:47:32.477385Z",
     "start_time": "2020-01-22T07:47:27.148Z"
    }
   },
   "outputs": [],
   "source": [
    "a= np.array([ [1,2,3,4] , [5,6,7,8], [9,10,11,12]    ])\n",
    "print(a.shape)\n",
    "b = a.reshape(-1,2,2)\n",
    "print(b.shape)\n",
    "\n",
    "bb = X_train.copy()\n",
    "cc = bb.reshape(-1, 24,24)\n",
    "print(cc.shape)\n",
    "plt.imshow(cc[44], cmap=\"gray\")    # show first number in the dataset\n",
    "plt.show()"
   ]
  },
  {
   "cell_type": "code",
   "execution_count": null,
   "metadata": {
    "ExecuteTime": {
     "end_time": "2020-01-22T07:47:32.478383Z",
     "start_time": "2020-01-22T07:47:27.149Z"
    }
   },
   "outputs": [],
   "source": [
    "# 4차원으로 변경\n",
    "X_train =  X_train.reshape(-1, 24,24,1)\n",
    "X_test =  X_test.reshape(-1, 24,24,1)\n",
    "print(X_train.shape)\n",
    "print(X_test.shape)\n",
    "print(y_train.shape)\n",
    "print(y_test.shape)"
   ]
  },
  {
   "cell_type": "code",
   "execution_count": null,
   "metadata": {
    "ExecuteTime": {
     "end_time": "2020-01-22T07:47:32.478383Z",
     "start_time": "2020-01-22T07:47:27.150Z"
    }
   },
   "outputs": [],
   "source": [
    "plt.imshow(X_train[2,:,:,0], cmap=\"gray\")  \n",
    "plt.show()"
   ]
  },
  {
   "cell_type": "code",
   "execution_count": null,
   "metadata": {
    "ExecuteTime": {
     "end_time": "2020-01-22T07:47:32.479380Z",
     "start_time": "2020-01-22T07:47:27.153Z"
    }
   },
   "outputs": [],
   "source": [
    "# 모델 구성하기\n",
    "model = Sequential()\n",
    "model.add(Conv2D(32, kernel_size=(3, 3),input_shape=(24,24,1)))\n",
    "model.add(BatchNormalization())\n",
    "model.add(Activation('relu'))\n",
    "    \n",
    "model.add(Conv2D(64, (3, 3)))  # 이렇게 하면 batch normalization 못쓴다.\n",
    "model.add(BatchNormalization())\n",
    "model.add(Activation('relu'))\n",
    "model.add(MaxPooling2D(pool_size=(2, 2)))\n",
    "model.add(Flatten())\n",
    "\n",
    "model.add(Dense(128))                         # flat 이 후는 안함\n",
    "model.add(Activation('relu'))\n",
    "model.add(Dense(3, activation='softmax'))\n",
    "\n",
    "# 모델 엮기\n",
    "model.compile(loss='categorical_crossentropy', optimizer='adam', metrics=['accuracy'])"
   ]
  },
  {
   "cell_type": "code",
   "execution_count": null,
   "metadata": {
    "ExecuteTime": {
     "end_time": "2020-01-22T07:47:32.479380Z",
     "start_time": "2020-01-22T07:47:27.154Z"
    }
   },
   "outputs": [],
   "source": [
    "# 모델 학습시키기 #1\n",
    "history = model.fit(X_train, y_train, batch_size = 15, epochs = 100, validation_data =(X_test, y_test), verbose = 0)"
   ]
  },
  {
   "cell_type": "code",
   "execution_count": null,
   "metadata": {
    "ExecuteTime": {
     "end_time": "2020-01-22T07:47:32.480378Z",
     "start_time": "2020-01-22T07:47:27.156Z"
    },
    "scrolled": true
   },
   "outputs": [],
   "source": [
    "plt.plot(history.history['accuracy'])\n",
    "plt.plot(history.history['val_accuracy'])\n",
    "plt.legend(['training', 'validation'], loc = 'upper left')\n",
    "plt.show()\n",
    "results = model.evaluate(X_test, y_test)\n",
    "print(results)"
   ]
  },
  {
   "cell_type": "markdown",
   "metadata": {},
   "source": [
    "# 여러운 shape으로 해보기"
   ]
  },
  {
   "cell_type": "code",
   "execution_count": null,
   "metadata": {
    "ExecuteTime": {
     "end_time": "2020-01-22T07:47:32.480378Z",
     "start_time": "2020-01-22T07:47:27.157Z"
    }
   },
   "outputs": [],
   "source": [
    "# mnist    60000x28x28 처럼 만든다.    label은 1차원\n",
    "\n",
    "X_test = np.zeros((5*3, 24,24))\n",
    "y_test = np.zeros(5*3)\n",
    "\n",
    "for i in range(5) :        \n",
    "    img = cv2.imread('data/test/circle/circle{0:03d}.png'.format(i+21), 0)        \n",
    "    X_test[i,:,:] = img\n",
    "    y_test[i] = 0\n",
    "    \n",
    "for i in range(5) :    \n",
    "    img = cv2.imread('data/test/rectangle/rectangle{0:03d}.png'.format(i+21), 0)        \n",
    "    X_test[5+i,:,:] = img\n",
    "    y_test[5+i] = 1\n",
    "    \n",
    "for i in range(5) :    \n",
    "    img = cv2.imread('data/test/triangle/triangle{0:03d}.png'.format(i+21), 0)        \n",
    "    X_test[10+i,:,:] = img\n",
    "    y_test[10+i] = 2"
   ]
  },
  {
   "cell_type": "code",
   "execution_count": null,
   "metadata": {
    "ExecuteTime": {
     "end_time": "2020-01-22T07:47:32.481375Z",
     "start_time": "2020-01-22T07:47:27.158Z"
    }
   },
   "outputs": [],
   "source": [
    "X_test = X_test.reshape((X_test.shape[0], X_test.shape[1], X_test.shape[2], 1))  # 갯수, w, h, 1\n",
    "y_test = to_categorical(y_test)\n",
    "print(X_train.shape, X_test.shape, y_train.shape, y_test.shape)"
   ]
  },
  {
   "cell_type": "code",
   "execution_count": null,
   "metadata": {
    "ExecuteTime": {
     "end_time": "2020-01-22T07:47:32.481375Z",
     "start_time": "2020-01-22T07:47:27.160Z"
    }
   },
   "outputs": [],
   "source": [
    "results = model.evaluate(X_test, y_test)\n",
    "print(results)"
   ]
  },
  {
   "cell_type": "markdown",
   "metadata": {},
   "source": [
    "# 무엇이 문제 인지 분석한다"
   ]
  },
  {
   "cell_type": "code",
   "execution_count": null,
   "metadata": {
    "ExecuteTime": {
     "end_time": "2020-01-22T07:47:32.482372Z",
     "start_time": "2020-01-22T07:47:27.161Z"
    }
   },
   "outputs": [],
   "source": [
    "h = model.predict(X_test)\n",
    "p = model.predict_classes(X_test)\n",
    "labels = ['C', 'R', 'T']   "
   ]
  },
  {
   "cell_type": "code",
   "execution_count": null,
   "metadata": {
    "ExecuteTime": {
     "end_time": "2020-01-22T07:47:32.482372Z",
     "start_time": "2020-01-22T07:47:27.162Z"
    }
   },
   "outputs": [],
   "source": [
    "print(p)\n",
    "y_ =  np.argmax(y_test, axis=1)\n",
    "print(y_)"
   ]
  },
  {
   "cell_type": "code",
   "execution_count": null,
   "metadata": {
    "ExecuteTime": {
     "end_time": "2020-01-22T07:47:32.482372Z",
     "start_time": "2020-01-22T07:47:27.163Z"
    }
   },
   "outputs": [],
   "source": [
    "idx = np.where(  p != y_ )\n",
    "print(idx)"
   ]
  },
  {
   "cell_type": "code",
   "execution_count": null,
   "metadata": {
    "ExecuteTime": {
     "end_time": "2020-01-22T07:47:32.483369Z",
     "start_time": "2020-01-22T07:47:27.165Z"
    }
   },
   "outputs": [],
   "source": [
    "plt.figure(figsize=(20, 15))\n",
    "\n",
    "cc = 3\n",
    "rr = int(len(idx[0]) / cc)+1\n",
    "\n",
    "for k in range( len(idx[0]) ) :        \n",
    "  i = idx[0][k]             \n",
    "  c =  \"blue\" if  p[i] == y_[i]   else \"red\"    \n",
    "  plt.subplot( rr ,cc, k+1)\n",
    "  plt.bar(labels, h[i], color=c)\n",
    "  plt.xlabel(\"true:{}->  predict:{} {:2.0f}%\".format(labels[int(y_[  i ])], labels[p[  i ]],  100*np.max(h[i], axis=0)),  color = c )"
   ]
  },
  {
   "cell_type": "code",
   "execution_count": null,
   "metadata": {
    "ExecuteTime": {
     "end_time": "2020-01-22T07:47:32.484367Z",
     "start_time": "2020-01-22T07:47:27.166Z"
    }
   },
   "outputs": [],
   "source": [
    "plt.figure(figsize=(20, 15))\n",
    "\n",
    "cc = 3\n",
    "rr = int(len(idx[0]) / cc)+1\n",
    "\n",
    "for k in range( len(idx[0]) ) :        \n",
    "  i = idx[0][k]             \n",
    "  c =  \"blue\" if  p[i] == y_[i]   else \"red\"    \n",
    "  plt.subplot( rr ,cc*2, k*2+1)    \n",
    "  plt.imshow(X_test[i, :,:, 0], cmap=\"gray\") \n",
    "  plt.subplot( rr ,cc*2, k*2+2)\n",
    "  plt.bar(labels, h[i], color=c)\n",
    "  plt.xlabel(\"true:{}->  predict:{} {:2.0f}%\".format(labels[int(y_[  i ])], labels[p[  i ]],  100*np.max(h[i], axis=0)),  color = c )"
   ]
  },
  {
   "cell_type": "code",
   "execution_count": null,
   "metadata": {
    "ExecuteTime": {
     "end_time": "2020-01-22T07:47:32.484367Z",
     "start_time": "2020-01-22T07:47:27.167Z"
    }
   },
   "outputs": [],
   "source": [
    "plt.figure(figsize=(20, 15))\n",
    "\n",
    "cc = 3\n",
    "rr = int(len(idx[0]) / cc)+1\n",
    "\n",
    "for k in range( len(idx[0]) ) :        \n",
    "  i = idx[0][k]             \n",
    "  c =  \"blue\" if  p[i] == y_[i]   else \"red\"    \n",
    "  plt.subplot( rr ,cc, k+1)\n",
    "  #  left and right limits, and the bottom and top limits. \n",
    "  plt.imshow(X_test[i, :,:, 0], extent=[0, 0.8, 0.5, 0.9], aspect='auto', zorder=10, cmap=\"gray\")\n",
    "  plt.ylim(0.0, 1.0)  \n",
    "  plt.bar(labels, h[i], color=c)\n",
    "  plt.xlabel(\"true:{}->  predict:{} {:2.0f}%\".format(labels[int(y_[  i ])], labels[p[  i ]],  100*np.max(h[i], axis=0)),  color = c )\n",
    "    \n",
    "plt.savefig('fig1.png')"
   ]
  },
  {
   "cell_type": "markdown",
   "metadata": {},
   "source": [
    "# 데이터 부풀려서 개선하기"
   ]
  },
  {
   "cell_type": "code",
   "execution_count": null,
   "metadata": {},
   "outputs": [],
   "source": []
  },
  {
   "cell_type": "code",
   "execution_count": null,
   "metadata": {},
   "outputs": [],
   "source": []
  },
  {
   "cell_type": "code",
   "execution_count": null,
   "metadata": {},
   "outputs": [],
   "source": []
  },
  {
   "cell_type": "code",
   "execution_count": null,
   "metadata": {
    "ExecuteTime": {
     "end_time": "2020-01-22T07:47:32.485364Z",
     "start_time": "2020-01-22T07:47:27.171Z"
    }
   },
   "outputs": [],
   "source": [
    "# 모델 평가하기\n",
    "print(\"-- Evaluate --\")\n",
    "\n",
    "scores = model.evaluate_generator(\n",
    "            test_generator, \n",
    "            steps = 5)\n",
    "\n",
    "print(\"%s: %.2f%%\" %(model.metrics_names[1], scores[1]*100))\n",
    "\n",
    "# 모델 예측하기\n",
    "print(\"-- Predict --\")\n",
    "\n",
    "output = model.predict_generator(\n",
    "            test_generator, \n",
    "            steps = 5)\n",
    "\n",
    "np.set_printoptions(formatter={'float': lambda x: \"{0:0.3f}\".format(x)})\n",
    "print(output)"
   ]
  }
 ],
 "metadata": {
  "kernelspec": {
   "display_name": "Python 3",
   "language": "python",
   "name": "python3"
  },
  "language_info": {
   "codemirror_mode": {
    "name": "ipython",
    "version": 3
   },
   "file_extension": ".py",
   "mimetype": "text/x-python",
   "name": "python",
   "nbconvert_exporter": "python",
   "pygments_lexer": "ipython3",
   "version": "3.7.5"
  },
  "varInspector": {
   "cols": {
    "lenName": 16,
    "lenType": 16,
    "lenVar": 40
   },
   "kernels_config": {
    "python": {
     "delete_cmd_postfix": "",
     "delete_cmd_prefix": "del ",
     "library": "var_list.py",
     "varRefreshCmd": "print(var_dic_list())"
    },
    "r": {
     "delete_cmd_postfix": ") ",
     "delete_cmd_prefix": "rm(",
     "library": "var_list.r",
     "varRefreshCmd": "cat(var_dic_list()) "
    }
   },
   "types_to_exclude": [
    "module",
    "function",
    "builtin_function_or_method",
    "instance",
    "_Feature"
   ],
   "window_display": false
  }
 },
 "nbformat": 4,
 "nbformat_minor": 2
}
