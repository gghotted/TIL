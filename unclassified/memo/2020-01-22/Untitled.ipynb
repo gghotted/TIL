{
 "cells": [
  {
   "cell_type": "markdown",
   "metadata": {},
   "source": [
    "# 1"
   ]
  },
  {
   "cell_type": "code",
   "execution_count": 5,
   "metadata": {
    "ExecuteTime": {
     "end_time": "2020-01-22T11:23:29.209343Z",
     "start_time": "2020-01-22T11:23:29.207262Z"
    }
   },
   "outputs": [],
   "source": [
    "a = ['abc', 'def', 'acd']"
   ]
  },
  {
   "cell_type": "code",
   "execution_count": 9,
   "metadata": {
    "ExecuteTime": {
     "end_time": "2020-01-22T11:25:42.175429Z",
     "start_time": "2020-01-22T11:25:42.171424Z"
    }
   },
   "outputs": [
    {
     "name": "stdout",
     "output_type": "stream",
     "text": [
      "6\n"
     ]
    }
   ],
   "source": [
    "from itertools import combinations\n",
    "\n",
    "max_ = 0\n",
    "for i in range(len(a)):\n",
    "    for com in combinations(a, i+1):\n",
    "        com_str = ''.join(com)\n",
    "        if len(com_str) == len(set(com_str)):\n",
    "            max_ = len(com_str)\n",
    "            \n",
    "print(max_)"
   ]
  },
  {
   "cell_type": "code",
   "execution_count": null,
   "metadata": {},
   "outputs": [],
   "source": [
    "from itertools import combinations\n",
    "\n",
    "def solution():\n",
    "    max_ = 0\n",
    "    for i in range(len(a)):\n",
    "        for com in combinations(a, i+1):\n",
    "            com_str = ''.join(com)\n",
    "            if len(com_str) == len(set(com_str)):\n",
    "                max_ = len(com_str)"
   ]
  },
  {
   "cell_type": "markdown",
   "metadata": {},
   "source": [
    "# 2"
   ]
  },
  {
   "cell_type": "code",
   "execution_count": 30,
   "metadata": {
    "ExecuteTime": {
     "end_time": "2020-01-22T11:51:14.018641Z",
     "start_time": "2020-01-22T11:51:14.011587Z"
    }
   },
   "outputs": [
    {
     "data": {
      "text/plain": [
       "'aabbaa'"
      ]
     },
     "execution_count": 30,
     "metadata": {},
     "output_type": "execute_result"
    }
   ],
   "source": [
    "from collections import deque\n",
    "\n",
    "\n",
    "def solution(S):\n",
    "    S = deque(S)\n",
    "    lefts = ''\n",
    "    rights = ''\n",
    "    \n",
    "    while len(S) >= 2:\n",
    "        left = S.popleft()\n",
    "        right = S.pop()\n",
    "        \n",
    "        if left == '?' and right == '?':\n",
    "            left = right = 'a'\n",
    "        \n",
    "        elif left == '?':\n",
    "            left = right\n",
    "        elif right == '?':\n",
    "            right = left\n",
    "        \n",
    "        if left != right:\n",
    "            return 'NO'\n",
    "        \n",
    "        lefts += left\n",
    "        rights = right + rights\n",
    "        \n",
    "    else:\n",
    "        center = ''\n",
    "        if S:\n",
    "            center = S[0]\n",
    "        return lefts + center + rights\n",
    "    \n",
    "S = '?ab??a'\n",
    "solution(S)"
   ]
  },
  {
   "cell_type": "code",
   "execution_count": 15,
   "metadata": {
    "ExecuteTime": {
     "end_time": "2020-01-22T11:36:36.079386Z",
     "start_time": "2020-01-22T11:36:36.074399Z"
    }
   },
   "outputs": [
    {
     "data": {
      "text/plain": [
       "'a'"
      ]
     },
     "execution_count": 15,
     "metadata": {},
     "output_type": "execute_result"
    }
   ],
   "source": [
    "S = deque(S)\n",
    "S.popleft()\n",
    "S.pop()"
   ]
  },
  {
   "cell_type": "code",
   "execution_count": 26,
   "metadata": {
    "ExecuteTime": {
     "end_time": "2020-01-22T11:47:16.960383Z",
     "start_time": "2020-01-22T11:47:16.955350Z"
    }
   },
   "outputs": [
    {
     "data": {
      "text/plain": [
       "\"['a', 'b']\""
      ]
     },
     "execution_count": 26,
     "metadata": {},
     "output_type": "execute_result"
    }
   ],
   "source": [
    "['a','b']"
   ]
  },
  {
   "cell_type": "markdown",
   "metadata": {},
   "source": [
    "# 4"
   ]
  },
  {
   "cell_type": "code",
   "execution_count": 35,
   "metadata": {
    "ExecuteTime": {
     "end_time": "2020-01-22T12:11:55.321073Z",
     "start_time": "2020-01-22T12:11:55.317045Z"
    }
   },
   "outputs": [
    {
     "name": "stdout",
     "output_type": "stream",
     "text": [
      "3\n"
     ]
    }
   ],
   "source": [
    "a = 7\n",
    "b = 3\n",
    "\n",
    "def solution(a,b):\n",
    "    bin_ = bin(a*b)\n",
    "    is_ones = [True for one in bin_[2:] if one=='1']\n",
    "    return len(is_ones)\n",
    "\n",
    "print(solution(a,b))"
   ]
  },
  {
   "cell_type": "code",
   "execution_count": null,
   "metadata": {},
   "outputs": [],
   "source": []
  }
 ],
 "metadata": {
  "kernelspec": {
   "display_name": "Python 3",
   "language": "python",
   "name": "python3"
  },
  "language_info": {
   "codemirror_mode": {
    "name": "ipython",
    "version": 3
   },
   "file_extension": ".py",
   "mimetype": "text/x-python",
   "name": "python",
   "nbconvert_exporter": "python",
   "pygments_lexer": "ipython3",
   "version": "3.7.5"
  },
  "varInspector": {
   "cols": {
    "lenName": 16,
    "lenType": 16,
    "lenVar": 40
   },
   "kernels_config": {
    "python": {
     "delete_cmd_postfix": "",
     "delete_cmd_prefix": "del ",
     "library": "var_list.py",
     "varRefreshCmd": "print(var_dic_list())"
    },
    "r": {
     "delete_cmd_postfix": ") ",
     "delete_cmd_prefix": "rm(",
     "library": "var_list.r",
     "varRefreshCmd": "cat(var_dic_list()) "
    }
   },
   "types_to_exclude": [
    "module",
    "function",
    "builtin_function_or_method",
    "instance",
    "_Feature"
   ],
   "window_display": false
  }
 },
 "nbformat": 4,
 "nbformat_minor": 2
}
