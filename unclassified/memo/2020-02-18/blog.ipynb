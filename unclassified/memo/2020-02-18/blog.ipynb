{
 "cells": [
  {
   "cell_type": "markdown",
   "metadata": {},
   "source": [
    "# Post 레코드 생성"
   ]
  },
  {
   "cell_type": "markdown",
   "metadata": {},
   "source": [
    "## import"
   ]
  },
  {
   "cell_type": "code",
   "execution_count": 3,
   "metadata": {
    "ExecuteTime": {
     "end_time": "2020-02-18T01:23:20.725977Z",
     "start_time": "2020-02-18T01:23:20.722018Z"
    }
   },
   "outputs": [],
   "source": [
    "from blog.models import Post\n",
    "\n",
    "# django 기본 User 모델\n",
    "from django.contrib.auth.models import User"
   ]
  },
  {
   "cell_type": "markdown",
   "metadata": {},
   "source": [
    "## post 생성"
   ]
  },
  {
   "cell_type": "code",
   "execution_count": 9,
   "metadata": {
    "ExecuteTime": {
     "end_time": "2020-02-18T01:27:22.952081Z",
     "start_time": "2020-02-18T01:27:22.946043Z"
    }
   },
   "outputs": [],
   "source": [
    "# username이 'gghotted'인 user를 가져옴\n",
    "user = User.objects.get(username='gghotted')\n",
    "\n",
    "# post 객체 생성 with title, text, user\n",
    "post = Post(title='오늘 점심 메뉴', text='뭘까?', author=user)\n",
    "\n",
    "# 위 post와 동일한 결과\n",
    "# post = Post(title='오늘 점심 메뉴', text='뭘까?', author_id=user.id)"
   ]
  },
  {
   "cell_type": "markdown",
   "metadata": {},
   "source": [
    "## 저장 (only save)"
   ]
  },
  {
   "cell_type": "code",
   "execution_count": 10,
   "metadata": {
    "ExecuteTime": {
     "end_time": "2020-02-18T01:30:44.436601Z",
     "start_time": "2020-02-18T01:30:44.426575Z"
    }
   },
   "outputs": [],
   "source": [
    "post.save()"
   ]
  },
  {
   "cell_type": "markdown",
   "metadata": {},
   "source": [
    "## 저장 (with published_date)"
   ]
  },
  {
   "cell_type": "code",
   "execution_count": 13,
   "metadata": {
    "ExecuteTime": {
     "end_time": "2020-02-18T01:35:03.684878Z",
     "start_time": "2020-02-18T01:35:03.673908Z"
    }
   },
   "outputs": [],
   "source": [
    "post.publish()"
   ]
  }
 ],
 "metadata": {
  "kernelspec": {
   "display_name": "Django Shell-Plus",
   "language": "python",
   "name": "django_extensions"
  },
  "language_info": {
   "codemirror_mode": {
    "name": "ipython",
    "version": 3
   },
   "file_extension": ".py",
   "mimetype": "text/x-python",
   "name": "python",
   "nbconvert_exporter": "python",
   "pygments_lexer": "ipython3",
   "version": "3.6.10"
  },
  "varInspector": {
   "cols": {
    "lenName": 16,
    "lenType": 16,
    "lenVar": 40
   },
   "kernels_config": {
    "python": {
     "delete_cmd_postfix": "",
     "delete_cmd_prefix": "del ",
     "library": "var_list.py",
     "varRefreshCmd": "print(var_dic_list())"
    },
    "r": {
     "delete_cmd_postfix": ") ",
     "delete_cmd_prefix": "rm(",
     "library": "var_list.r",
     "varRefreshCmd": "cat(var_dic_list()) "
    }
   },
   "types_to_exclude": [
    "module",
    "function",
    "builtin_function_or_method",
    "instance",
    "_Feature"
   ],
   "window_display": false
  }
 },
 "nbformat": 4,
 "nbformat_minor": 4
}
