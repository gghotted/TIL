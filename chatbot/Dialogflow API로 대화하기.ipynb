{
 "cells": [
  {
   "cell_type": "markdown",
   "metadata": {},
   "source": [
    "# Dialogflow API로 대화하기"
   ]
  },
  {
   "cell_type": "code",
   "execution_count": 1,
   "metadata": {
    "ExecuteTime": {
     "end_time": "2020-02-07T03:37:36.838617Z",
     "start_time": "2020-02-07T03:37:36.716549Z"
    }
   },
   "outputs": [],
   "source": [
    "import requests\n",
    "import json\n",
    "from bs4 import BeautifulSoup\n",
    "import urllib"
   ]
  },
  {
   "cell_type": "code",
   "execution_count": 2,
   "metadata": {
    "ExecuteTime": {
     "end_time": "2020-02-07T03:37:46.350931Z",
     "start_time": "2020-02-07T03:37:46.320938Z"
    }
   },
   "outputs": [],
   "source": [
    "class ChatBot():\n",
    "    \n",
    "    \n",
    "    def __init__(self, key):\n",
    "        self.key = key\n",
    "        \n",
    "        \n",
    "    def run(self):\n",
    "        while True:\n",
    "            userInp = input('\\n->')\n",
    "            if userInp == 'quit':\n",
    "                break\n",
    "            resParams = self.getResponseParams(userInp)\n",
    "            if resParams['aic'] == False:\n",
    "                if resParams['ittName'] == 'query':\n",
    "                    resParams['ans'] = self.answerQuery(resParams['params']['any'])\n",
    "                if resParams['ittName'] == 'weather':\n",
    "                    resParams['ans'] = self.answerWeather(resParams['params']['geo-city'])\n",
    "            print(resParams['ans'])\n",
    "            \n",
    "            \n",
    "    def getResponseParams(self, userInp):\n",
    "        res = self.getResponse(userInp)\n",
    "        \n",
    "        return {'params': res['result']['parameters'],\n",
    "                 'aic': res['result']['actionIncomplete'],\n",
    "                 'ans': res['result']['fulfillment']['speech'],\n",
    "                 'ittName': res['result']['metadata']['intentName']}\n",
    "            \n",
    "        \n",
    "    def getResponse(self, userInp):\n",
    "        data_send = {'query': userInp, 'sessionId': 'user01',\n",
    "                     'lang': 'ko', 'timezone' : 'Asia/Seoul'}\n",
    "        data_header = {'Authorization': 'Bearer %s'%self.key,\n",
    "                       'Content-Type': 'application/json; charset=utf-8'}\n",
    "        dialogflow_url = 'https://api.dialogflow.com/v1/query?v=20150910'\n",
    "        res = requests.post(dialogflow_url, data=json.dumps(data_send), headers=data_header)\n",
    "        \n",
    "        if res.status_code == requests.codes.ok:\n",
    "           return res.json()\n",
    "    \n",
    "    \n",
    "    def answerQuery(self, word):\n",
    "        url = 'https://search.naver.com/search.naver?where=kdic&query='\n",
    "        url = url + urllib.parse.quote_plus(word)\n",
    "        bs = BeautifulSoup(urllib.request.urlopen(url).read(), 'html.parser')\n",
    "        outputs = bs.select('p.txt_box')\n",
    "        \n",
    "        return outputs[0].text\n",
    "    \n",
    "    \n",
    "    def answerWeather(self, city):\n",
    "        url = 'https://search.naver.com/search.naver?query='\n",
    "        url = url + urllib.parse.quote_plus(city + '날씨')\n",
    "        bs = BeautifulSoup(urllib.request.urlopen(url).read(), 'html.parser')\n",
    "        temp = bs.select('span.todaytemp')[0].text\n",
    "        desc = bs.select('p.cast_txt')[0].text\n",
    "        \n",
    "        return temp + ' / ' + desc"
   ]
  },
  {
   "cell_type": "code",
   "execution_count": 3,
   "metadata": {
    "ExecuteTime": {
     "end_time": "2020-02-07T03:40:05.200660Z",
     "start_time": "2020-02-07T03:37:59.935154Z"
    }
   },
   "outputs": [
    {
     "name": "stdout",
     "output_type": "stream",
     "text": [
      "\n",
      "->안녕\n",
      "안녕!\n",
      "\n",
      "->오늘 부산 날씨 알려줘\n",
      "8 / 맑음, 어제보다 2˚ 높아요\n",
      "\n",
      "->Python 알려줘\n",
      "최근 몇 년 사이 프로그래밍을 비전공자들에게 알려주는 문화가 전세계적으로 확산되고 있다. 하버드나 예일대 같은 해외 대학 뿐만 아니라 카이스트, 국민대, 성균관대 등...\n",
      "\n",
      "->quit\n"
     ]
    }
   ],
   "source": [
    "ChatBot('key').run()"
   ]
  }
 ],
 "metadata": {
  "kernelspec": {
   "display_name": "Python 3",
   "language": "python",
   "name": "python3"
  },
  "language_info": {
   "codemirror_mode": {
    "name": "ipython",
    "version": 3
   },
   "file_extension": ".py",
   "mimetype": "text/x-python",
   "name": "python",
   "nbconvert_exporter": "python",
   "pygments_lexer": "ipython3",
   "version": "3.7.5"
  },
  "varInspector": {
   "cols": {
    "lenName": 16,
    "lenType": 16,
    "lenVar": 40
   },
   "kernels_config": {
    "python": {
     "delete_cmd_postfix": "",
     "delete_cmd_prefix": "del ",
     "library": "var_list.py",
     "varRefreshCmd": "print(var_dic_list())"
    },
    "r": {
     "delete_cmd_postfix": ") ",
     "delete_cmd_prefix": "rm(",
     "library": "var_list.r",
     "varRefreshCmd": "cat(var_dic_list()) "
    }
   },
   "types_to_exclude": [
    "module",
    "function",
    "builtin_function_or_method",
    "instance",
    "_Feature"
   ],
   "window_display": false
  }
 },
 "nbformat": 4,
 "nbformat_minor": 2
}
