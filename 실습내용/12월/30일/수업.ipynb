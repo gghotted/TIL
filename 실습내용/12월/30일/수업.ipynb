{
 "cells": [
  {
   "cell_type": "code",
   "execution_count": 1,
   "metadata": {},
   "outputs": [
    {
     "data": {
      "text/plain": [
       "'1.15.0'"
      ]
     },
     "execution_count": 1,
     "metadata": {},
     "output_type": "execute_result"
    }
   ],
   "source": [
    "import tensorflow as tf\n",
    "\n",
    "tf.__version__"
   ]
  },
  {
   "cell_type": "code",
   "execution_count": 2,
   "metadata": {},
   "outputs": [
    {
     "data": {
      "text/plain": [
       "6234"
      ]
     },
     "execution_count": 2,
     "metadata": {},
     "output_type": "execute_result"
    }
   ],
   "source": [
    "# 상수정의\n",
    "a = tf.constant(1234)\n",
    "b = tf.constant(5000)\n",
    "\n",
    "# 계산정의\n",
    "add_op = a+b\n",
    "\n",
    "#세션 시작\n",
    "sess = tf.Session()\n",
    "res = sess.run(add_op)\n",
    "res"
   ]
  },
  {
   "cell_type": "code",
   "execution_count": 3,
   "metadata": {},
   "outputs": [
    {
     "name": "stdout",
     "output_type": "stream",
     "text": [
      "14\n",
      "20\n"
     ]
    }
   ],
   "source": [
    "#상수 정의\n",
    "a = tf.constant(2) \n",
    "b = tf.constant(3)\n",
    "c = tf.constant(4)\n",
    "\n",
    "#계산 정의\n",
    "calc1_op = a + b *c\n",
    "calc2_op = (a+b) * c\n",
    "\n",
    "#세션 시작 \n",
    "sess = tf.Session() \n",
    "res1 = sess.run(calc1_op) #계산식 평가 \n",
    "print(res1)\n",
    "res2 = sess.run(calc2_op) #계산식 평가 \n",
    "print(res2)"
   ]
  },
  {
   "cell_type": "code",
   "execution_count": 7,
   "metadata": {},
   "outputs": [
    {
     "name": "stdout",
     "output_type": "stream",
     "text": [
      "10\n"
     ]
    }
   ],
   "source": [
    "#상수 정의\n",
    "a = tf.constant(100) \n",
    "b = tf.constant(50)\n",
    "add_op = a + b\n",
    "\n",
    "#변수 v 선언하기, 초기값:0\n",
    "v = tf.Variable(0)\n",
    "\n",
    "# 변수 v에 add_op의 결과 대입하기\n",
    "let_op = tf.assign(v, add_op)\n",
    "\n",
    "#세션 시작 \n",
    "sess = tf.Session() \n",
    "# 변수 초기화히기\n",
    "sess.run(tf.global_variables_initializer())\n",
    "#계산식 실행\n",
    "sess.run(let_op) \n",
    "print(sess.run(v))"
   ]
  },
  {
   "cell_type": "code",
   "execution_count": 8,
   "metadata": {},
   "outputs": [
    {
     "name": "stdout",
     "output_type": "stream",
     "text": [
      "[2 4 6]\n",
      "[20 40 20]\n"
     ]
    }
   ],
   "source": [
    "#placeholder 정의(정수 자료형 3개를 가진 배열)\n",
    "a = tf.placeholder(tf.int32, [3]) \n",
    "b = tf.constant(2)\n",
    "x2_op = a * b\n",
    "\n",
    "#세션 시작 \n",
    "sess = tf.Session() \n",
    "# placeholder에 값 넣고 실행하기\n",
    "r1 = sess.run(x2_op, feed_dict = {a:[1, 2, 3]})\n",
    "print(r1)\n",
    "r2 = sess.run(x2_op, feed_dict = {a:[10, 20, 10]})\n",
    "print(r2)"
   ]
  },
  {
   "cell_type": "code",
   "execution_count": 9,
   "metadata": {},
   "outputs": [
    {
     "name": "stdout",
     "output_type": "stream",
     "text": [
      "[10 20 30 40 50]\n",
      "[100 200]\n"
     ]
    }
   ],
   "source": [
    "#placeholder 정의( 배열의 크기를 None으로 지정)\n",
    "a = tf.placeholder(tf.int32, [None]) \n",
    "b = tf.constant(10)\n",
    "x10_op = a* b\n",
    "\n",
    "#세션 시작 \n",
    "sess = tf.Session() \n",
    "# placeholder에 값 넣고 실행하기\n",
    "r1 = sess.run(x10_op, feed_dict = {a:[1, 2, 3, 4, 5]})\n",
    "print(r1)\n",
    "r2 = sess.run(x10_op, feed_dict = {a:[10, 20]})\n",
    "print(r2)"
   ]
  },
  {
   "cell_type": "code",
   "execution_count": 35,
   "metadata": {},
   "outputs": [
    {
     "data": {
      "text/plain": [
       "WindowsPath('C:/Users/student/Desktop/깃/TIL/datas/실습/output/12월/30일')"
      ]
     },
     "execution_count": 35,
     "metadata": {},
     "output_type": "execute_result"
    }
   ],
   "source": [
    "# output path 받기\n",
    "from pathlib import Path\n",
    "cur_path = Path(Path.cwd())\n",
    "root_path = cur_path.parent.parent.parent\n",
    "goal_path = root_path / 'datas/실습/output/12월/30일/'\n",
    "goal_path"
   ]
  },
  {
   "cell_type": "code",
   "execution_count": 21,
   "metadata": {},
   "outputs": [
    {
     "name": "stdout",
     "output_type": "stream",
     "text": [
      "60100\n"
     ]
    }
   ],
   "source": [
    "a = tf.constant(100, name=\"a\")\n",
    "b = tf.constant(200, name=\"b\")\n",
    "c = tf.constant(300, name=\"c\")\n",
    "v = tf.Variable(0, name=\"v\")\n",
    "# 곱셈을 수행하는 그래프 정의하기  \n",
    "calc_op = a + b * c \n",
    "assign_op = tf.assign(v, calc_op)\n",
    "# 세션 생성하기  \n",
    "sess = tf.Session()\n",
    "# TensorBoard 사용하기  \n",
    "tw = tf.summary.FileWriter(goal_path+\"log_dir\", graph=sess.graph)\n",
    "# 세션 실행하기   \n",
    "sess.run(assign_op)\n",
    "print(sess.run(v))"
   ]
  },
  {
   "cell_type": "code",
   "execution_count": 30,
   "metadata": {},
   "outputs": [
    {
     "name": "stdout",
     "output_type": "stream",
     "text": [
      "x의 평균값  5.0\n",
      "y의 평균값  90.5\n",
      "분자  46.0\n",
      "분모  20.0\n",
      "기울기  2.3\n",
      "y절편  79.0\n"
     ]
    }
   ],
   "source": [
    "import numpy as np\n",
    "\n",
    "def get_top(x, mx, y, my):\n",
    "    d = 0\n",
    "    for i in range(len(x)):\n",
    "        d += (x[i]-mx) * (y[i]-my)\n",
    "    return d\n",
    "\n",
    "x = [2, 4, 6, 8]\n",
    "y = [81, 93, 91, 97]\n",
    "\n",
    "mx = np.mean(x)\n",
    "my = np.mean(y)\n",
    "print('x의 평균값 ', mx)\n",
    "print('y의 평균값 ', my)\n",
    "\n",
    "divisor = sum([(mx -i)**2 for i in x])\n",
    "top = get_top(x, mx, y, my)\n",
    "a = top/divisor\n",
    "b = my - (mx*a)\n",
    "\n",
    "print('분자 ', top)\n",
    "print('분모 ', divisor)\n",
    "print('기울기 ', a)\n",
    "print('y절편 ', b)"
   ]
  },
  {
   "cell_type": "code",
   "execution_count": 36,
   "metadata": {},
   "outputs": [
    {
     "name": "stdout",
     "output_type": "stream",
     "text": [
      "공부한 시간 =2, 실제 점수 =81,  예측점수=82\n",
      "공부한 시간 =4, 실제 점수 =93,  예측점수=88\n",
      "공부한 시간 =6, 실제 점수 =91,  예측점수=94\n",
      "공부한 시간 =8, 실제 점수 =97,  예측점수=100\n",
      "rmse  최종값 :3.3166247903554\n"
     ]
    }
   ],
   "source": [
    "#  임의의 기울기와 절편\n",
    "ab = [3, 76]\n",
    "\n",
    "data = [[2,81],[4,93],[6,91],[8,97]]\n",
    "\n",
    "# x 값과 y 값\n",
    "x= [ i[0] for i in data]\n",
    "y= [ i[1] for i in data]\n",
    "\n",
    "\n",
    "#  임의의 기울기와 절편의 모델로부터 예측값 반환 함수\n",
    "def predict(x):\n",
    "    return ab[0]*x+ab[1]\n",
    "\n",
    "# 평균 제곱근 오차 반환 함수\n",
    "def rmse(p, a):\n",
    "    return    np.sqrt(((p-a)**2).mean())\n",
    "\n",
    "predict_result = []\n",
    "\n",
    "for i in range(len(x)):\n",
    "    predict_result.append(predict(x[i]))\n",
    "    print(\"공부한 시간 =%.f, 실제 점수 =%.f,  예측점수=%.f\" % (x[i], y[i], predict_result[i]))\n",
    "\n",
    "# 평균 제곱근 오차 반환 함수를 이용해서 최종값 구하기\n",
    "def  rmse_val(predict_result, y) :\n",
    "    return rmse(np.array(predict_result), np.array(y))\n",
    "\n",
    "print(\"rmse  최종값 :\"+ str(rmse_val(predict_result, y)))"
   ]
  },
  {
   "cell_type": "code",
   "execution_count": 37,
   "metadata": {},
   "outputs": [
    {
     "name": "stdout",
     "output_type": "stream",
     "text": [
      "Epoch: 0 , RMSE=30.2139,  기울기 a=7.5235, 절편 b= 80.5984\n",
      "Epoch: 100 , RMSE=2.8860,  기울기 a=2.2299, 절편 b= 79.4181\n",
      "Epoch: 200 , RMSE=2.8826,  기울기 a=2.2601, 절편 b= 79.2379\n",
      "Epoch: 300 , RMSE=2.8815,  기울기 a=2.2773, 절편 b= 79.1353\n",
      "Epoch: 400 , RMSE=2.8811,  기울기 a=2.2871, 절편 b= 79.0770\n",
      "Epoch: 500 , RMSE=2.8810,  기울기 a=2.2927, 절편 b= 79.0438\n",
      "Epoch: 600 , RMSE=2.8810,  기울기 a=2.2958, 절편 b= 79.0249\n",
      "Epoch: 700 , RMSE=2.8810,  기울기 a=2.2976, 절편 b= 79.0142\n",
      "Epoch: 800 , RMSE=2.8810,  기울기 a=2.2987, 절편 b= 79.0081\n",
      "Epoch: 900 , RMSE=2.8810,  기울기 a=2.2992, 절편 b= 79.0046\n",
      "Epoch: 1000 , RMSE=2.8810,  기울기 a=2.2996, 절편 b= 79.0026\n",
      "Epoch: 1100 , RMSE=2.8810,  기울기 a=2.2998, 절편 b= 79.0015\n",
      "Epoch: 1200 , RMSE=2.8810,  기울기 a=2.2999, 절편 b= 79.0008\n",
      "Epoch: 1300 , RMSE=2.8810,  기울기 a=2.2999, 절편 b= 79.0005\n",
      "Epoch: 1400 , RMSE=2.8810,  기울기 a=2.3000, 절편 b= 79.0003\n",
      "Epoch: 1500 , RMSE=2.8810,  기울기 a=2.3000, 절편 b= 79.0002\n",
      "Epoch: 1600 , RMSE=2.8810,  기울기 a=2.3000, 절편 b= 79.0001\n",
      "Epoch: 1700 , RMSE=2.8810,  기울기 a=2.3000, 절편 b= 79.0001\n",
      "Epoch: 1800 , RMSE=2.8810,  기울기 a=2.3000, 절편 b= 79.0000\n",
      "Epoch: 1900 , RMSE=2.8810,  기울기 a=2.3000, 절편 b= 79.0000\n",
      "Epoch: 2000 , RMSE=2.8810,  기울기 a=2.3000, 절편 b= 79.0000\n"
     ]
    }
   ],
   "source": [
    "data = [[2,81],[4,93],[6,91],[8,97]]\n",
    "\n",
    "# x 값과 y 값\n",
    "x_data= [ i[0] for i in data]\n",
    "y_data= [ i[1] for i in data]\n",
    "\n",
    "#임의의 기울기와 y절편의 값으로 변수로 정의\n",
    "a=tf.Variable(tf.random_uniform([1], 0, 10, dtype=tf.float64, seed=0))   #기울기 범위 0~10\n",
    "b = tf.Variable(tf.random_uniform([1], 0, 100, dtype=tf.float64, seed=0))   #y절편 범위 0~100\n",
    "\n",
    "y = a*x_data+b  #1차방정식의 계산식 정의\n",
    "\n",
    "#오차 계산 (평균 제곱근 오차 공식)\n",
    "rmse = tf.sqrt(tf.reduce_mean(tf.square(y-y_data)))\n",
    "\n",
    "#학습률\n",
    "learning_rate = 0.1\n",
    "\n",
    "# 오차 rmse 값이 최소인 값 찾는 식 정의\n",
    "gradient_descent = tf.train.GradientDescentOptimizer(learning_rate).minimize(rmse)\n",
    "\n",
    "#텐서플로으로 학습\n",
    "with tf.Session() as sess:\n",
    "    sess.run(tf.global_variables_initializer())     # 변수들을 메모리에 생성, 초기화\n",
    "    for step in range(2001):\n",
    "        sess.run(gradient_descent)\n",
    "        if step % 100 == 0:\n",
    "            print(\"Epoch: %.f , RMSE=%.4f,  기울기 a=%.4f, 절편 b= %.4f\" % (step, sess.run(rmse), sess.run(a), sess.run(b)))\n",
    "\n",
    "#Epoch는 입력값에 대해 몇 번 반복 실험했는지를 나타내는 용어"
   ]
  },
  {
   "cell_type": "code",
   "execution_count": 46,
   "metadata": {
    "scrolled": false
   },
   "outputs": [
    {
     "name": "stdout",
     "output_type": "stream",
     "text": [
      "Epoch: 0, RMSE=52.05538913854395,  기울기 a=[8.01479204 7.8758647 ], 절편 b=[80.68091405]\n",
      "Epoch: 100, RMSE=15.649840464630143,  기울기 a=[2.62804395 5.31848417], 절편 b=[79.75946617]\n",
      "Epoch: 200, RMSE=1.818026362141177,  기울기 a=[0.68531997 3.54303178], 절편 b=[79.3071515]\n",
      "Epoch: 300, RMSE=0.8021130261500584,  기울기 a=[1.11784738 2.65186766], 절편 b=[79.13956499]\n",
      "Epoch: 400, RMSE=0.4799166862030859,  기울기 a=[1.33871183 2.27732645], 절편 b=[78.83715985]\n",
      "Epoch: 500, RMSE=0.38144108322033826,  기울기 a=[1.40090437 2.253383  ], 절편 b=[78.53245878]\n",
      "Epoch: 600, RMSE=0.3177708886385602,  기울기 a=[1.43785766 2.26429304], 절편 b=[78.28371738]\n",
      "Epoch: 700, RMSE=0.2857294010949991,  기울기 a=[1.46347526 2.27310347], 절편 b=[78.10792064]\n",
      "Epoch: 800, RMSE=0.2732880784679609,  기울기 a=[1.47937105 2.27859158], 절편 b=[77.99878117]\n",
      "Epoch: 900, RMSE=0.2691372251001448,  기울기 a=[1.48853503 2.28175569], 절편 b=[77.93586132]\n",
      "Epoch: 1000, RMSE=0.2678358339001462,  기울기 a=[1.4936626  2.28352613], 절편 b=[77.9006554]\n",
      "Epoch: 1100, RMSE=0.26743633804597866,  기울기 a=[1.49650291 2.28450682], 절편 b=[77.88115389]\n",
      "Epoch: 1200, RMSE=0.2673145155654682,  기울기 a=[1.49807125 2.28504833], 절편 b=[77.87038564]\n",
      "Epoch: 1300, RMSE=0.2672774428657595,  기울기 a=[1.49893641 2.28534705], 절편 b=[77.86444547]\n",
      "Epoch: 1400, RMSE=0.26726616803716613,  기울기 a=[1.49941352 2.28551179], 절편 b=[77.86116962]\n",
      "Epoch: 1500, RMSE=0.2672627397026735,  기울기 a=[1.49967661 2.28560263], 절편 b=[77.85936324]\n",
      "Epoch: 1600, RMSE=0.26726169731002974,  기울기 a=[1.49982168 2.28565272], 절편 b=[77.85836718]\n",
      "Epoch: 1700, RMSE=0.2672613803738208,  기울기 a=[1.49990168 2.28568034], 절편 b=[77.85781795]\n",
      "Epoch: 1800, RMSE=0.2672612840108766,  기울기 a=[1.49994578 2.28569557], 절편 b=[77.85751511]\n",
      "Epoch: 1900, RMSE=0.2672612547122306,  기울기 a=[1.4999701  2.28570396], 절편 b=[77.85734812]\n",
      "Epoch: 2000, RMSE=0.2672612458041352,  기울기 a=[1.49998352 2.28570859], 절편 b=[77.85725604]\n",
      "Epoch: 2100, RMSE=0.2672612430956779,  기울기 a=[1.49999091 2.28571115], 절편 b=[77.85720527]\n",
      "Epoch: 2200, RMSE=0.2672612422721866,  기울기 a=[1.49999499 2.28571256], 절편 b=[77.85717727]\n",
      "Epoch: 2300, RMSE=0.2672612420218079,  기울기 a=[1.49999724 2.28571333], 절편 b=[77.85716183]\n",
      "Epoch: 2400, RMSE=0.26726124194568185,  기울기 a=[1.49999848 2.28571376], 절편 b=[77.85715332]\n",
      "Epoch: 2500, RMSE=0.26726124192253586,  기울기 a=[1.49999916 2.285714  ], 절편 b=[77.85714863]\n",
      "Epoch: 2600, RMSE=0.26726124191549877,  기울기 a=[1.49999954 2.28571413], 절편 b=[77.85714604]\n",
      "Epoch: 2700, RMSE=0.2672612419133593,  기울기 a=[1.49999974 2.2857142 ], 절편 b=[77.85714461]\n",
      "Epoch: 2800, RMSE=0.2672612419127083,  기울기 a=[1.49999986 2.28571424], 절편 b=[77.85714382]\n",
      "Epoch: 2900, RMSE=0.2672612419125109,  기울기 a=[1.49999992 2.28571426], 절편 b=[77.85714339]\n",
      "Epoch: 3000, RMSE=0.2672612419124504,  기울기 a=[1.49999996 2.28571427], 절편 b=[77.85714315]\n",
      "Epoch: 3100, RMSE=0.2672612419124324,  기울기 a=[1.49999998 2.28571428], 절편 b=[77.85714302]\n",
      "Epoch: 3200, RMSE=0.26726124191242684,  기울기 a=[1.49999999 2.28571428], 절편 b=[77.85714295]\n",
      "Epoch: 3300, RMSE=0.2672612419124254,  기울기 a=[1.49999999 2.28571428], 절편 b=[77.85714291]\n",
      "Epoch: 3400, RMSE=0.2672612419124245,  기울기 a=[1.5        2.28571428], 절편 b=[77.85714288]\n",
      "Epoch: 3500, RMSE=0.2672612419124244,  기울기 a=[1.5        2.28571428], 절편 b=[77.85714287]\n",
      "Epoch: 3600, RMSE=0.2672612419124245,  기울기 a=[1.5        2.28571429], 절편 b=[77.85714287]\n",
      "Epoch: 3700, RMSE=0.2672612419124242,  기울기 a=[1.5        2.28571429], 절편 b=[77.85714286]\n",
      "Epoch: 3800, RMSE=0.2672612419124243,  기울기 a=[1.5        2.28571429], 절편 b=[77.85714286]\n",
      "Epoch: 3900, RMSE=0.26726124191242423,  기울기 a=[1.5        2.28571429], 절편 b=[77.85714286]\n",
      "Epoch: 4000, RMSE=0.26726124191242434,  기울기 a=[1.5        2.28571429], 절편 b=[77.85714286]\n"
     ]
    }
   ],
   "source": [
    "data = [[2,0,81],[4,4,93],[6,2,91],[8,3,97]]\n",
    "x1_data= [i[0] for i in data]\n",
    "x2_data= [i[1] for i in data]\n",
    "y_data= [i[2] for i in data]\n",
    "\n",
    "a = tf.Variable(tf.random_uniform([2], 0, 10, dtype=tf.float64, seed=0))   \n",
    "b = tf.Variable(tf.random_uniform([1], 0, 100, dtype=tf.float64, seed=0))\n",
    "\n",
    "y = a[0]*x1_data + a[1]*x2_data + b\n",
    "rmse = tf.sqrt(tf.reduce_mean(tf.square(y-y_data)))\n",
    "learning_rate = 0.01\n",
    "gradient_descent = tf.train.GradientDescentOptimizer(learning_rate).minimize(rmse)\n",
    "\n",
    "with tf.Session() as sess:\n",
    "    sess.run(tf.global_variables_initializer())     # 변수들을 메모리에 생성, 초기화\n",
    "    for step in range(4001):\n",
    "        sess.run(gradient_descent)\n",
    "        if step % 100 == 0:\n",
    "            print(\"Epoch: %s, RMSE=%s,  기울기 a=%s, 절편 b=%s\" % (step, sess.run(rmse), sess.run(a), sess.run(b)))"
   ]
  },
  {
   "cell_type": "code",
   "execution_count": 59,
   "metadata": {},
   "outputs": [
    {
     "name": "stdout",
     "output_type": "stream",
     "text": [
      "Epoch: 0 , loss=1.2676,  기울기 a=0.1849, 절편 b= -0.4334\n",
      "Epoch: 1000 , loss=0.0557,  기울기 a=-1.6009, 절편 b= 11.0214\n",
      "Epoch: 2000 , loss=0.0361,  기울기 a=-2.0366, 절편 b= 14.0912\n",
      "Epoch: 3000 , loss=0.0269,  기울기 a=-2.3381, 절편 b= 16.2089\n",
      "Epoch: 4000 , loss=0.0214,  기울기 a=-2.5708, 절편 b= 17.8419\n",
      "Epoch: 5000 , loss=0.0178,  기울기 a=-2.7607, 절편 b= 19.1736\n",
      "Epoch: 6000 , loss=0.0152,  기울기 a=-2.9211, 절편 b= 20.2983\n",
      "Epoch: 7000 , loss=0.0133,  기울기 a=-3.0600, 절편 b= 21.2716\n",
      "Epoch: 8000 , loss=0.0118,  기울기 a=-3.1824, 절편 b= 22.1293\n",
      "Epoch: 9000 , loss=0.0106,  기울기 a=-3.2918, 절편 b= 22.8958\n"
     ]
    }
   ],
   "source": [
    "import tensorflow as tf \n",
    "import numpy as np\n",
    "\n",
    "data =[[2, 0], [4, 0], [6, 0], [8, 1], [10, 1], [12, 1], [14, 1]]\n",
    "\n",
    "x_data = [i[0] for i in data]\n",
    "y_data = [i[1] for i in data]\n",
    "\n",
    "#임의의 a, b 값을 변수로 정의\n",
    "a = tf.Variable(tf.random_normal([1], dtype=tf.float64, seed=0))\n",
    "b = tf.Variable(tf.random_normal([1], dtype=tf.float64, seed=0))\n",
    "\n",
    "#시그모이드 함수 방정식 정의\n",
    "y = 1/ (1+ np.e**(a*x_data+b))\n",
    "\n",
    "#오차 loss 구하는 함수\n",
    "loss = -tf.reduce_mean(np.array(y_data)*tf.log(y)+(1-np.array(y_data))*tf.log(1-y))\n",
    "\n",
    "#학습률 \n",
    "learning_rate = 0.5\n",
    "\n",
    "# 오차 rmse 값이 최소인 값 찾는 식 정의\n",
    "gradient_descent = tf.train.GradientDescentOptimizer(learning_rate).minimize(loss)\n",
    "\n",
    "#텐서플로 이용하여 학습\n",
    "with tf.Session() as sess:\n",
    "    sess.run(tf.global_variables_initializer())     # 변수들을 메모리에 생성, 초기화\n",
    "    for step in range(10000):\n",
    "        sess.run(gradient_descent)\n",
    "        if step % 1000 == 0:\n",
    "            print(\"Epoch: %.f , loss=%.4f,  기울기 a=%.4f, 절편 b= %.4f\" % (step, sess.run(loss), sess.run(a), sess.run(b)))"
   ]
  },
  {
   "cell_type": "code",
   "execution_count": 62,
   "metadata": {},
   "outputs": [
    {
     "name": "stdout",
     "output_type": "stream",
     "text": [
      "Epoch: 0 , loss=1.7127,  기울기 a1=0.7648, 기울기 a2=-0.1155, 절편 b= 0.1099\n",
      "Epoch: 500 , loss=0.2116,  기울기 a1=0.8842, 기울기 a2=-0.4585, 절편 b= -3.4744\n",
      "Epoch: 1000 , loss=0.1402,  기울기 a1=0.7203, 기울기 a2=0.1077, 절편 b= -5.2530\n",
      "Epoch: 1500 , loss=0.1040,  기울기 a1=0.5442, 기울기 a2=0.5924, 절편 b= -6.4903\n",
      "Epoch: 2000 , loss=0.0823,  기울기 a1=0.3967, 기울기 a2=0.9838, 절편 b= -7.4422\n",
      "Epoch: 2500 , loss=0.0679,  기울기 a1=0.2770, 기울기 a2=1.3023, 절편 b= -8.2164\n",
      "Epoch: 3000 , loss=0.0578,  기울기 a1=0.1794, 기울기 a2=1.5665, 절편 b= -8.8691\n",
      "Epoch: 3500 , loss=0.0503,  기울기 a1=0.0987, 기울기 a2=1.7901, 절편 b= -9.4335\n",
      "Epoch: 4000 , loss=0.0445,  기울기 a1=0.0309, 기울기 a2=1.9828, 절편 b= -9.9307\n",
      "Epoch: 4500 , loss=0.0399,  기울기 a1=-0.0272, 기울기 a2=2.1515, 절편 b= -10.3750\n",
      "Epoch: 5000 , loss=0.0362,  기울기 a1=-0.0777, 기울기 a2=2.3013, 절편 b= -10.7766\n",
      "Epoch: 5500 , loss=0.0331,  기울기 a1=-0.1221, 기울기 a2=2.4357, 절편 b= -11.1430\n",
      "Epoch: 6000 , loss=0.0305,  기울기 a1=-0.1616, 기울기 a2=2.5575, 절편 b= -11.4799\n",
      "Epoch: 6500 , loss=0.0283,  기울기 a1=-0.1972, 기울기 a2=2.6689, 절편 b= -11.7916\n",
      "Epoch: 7000 , loss=0.0264,  기울기 a1=-0.2294, 기울기 a2=2.7714, 절편 b= -12.0817\n",
      "Epoch: 7500 , loss=0.0247,  기울기 a1=-0.2589, 기울기 a2=2.8663, 절편 b= -12.3529\n",
      "Epoch: 8000 , loss=0.0232,  기울기 a1=-0.2861, 기울기 a2=2.9547, 절편 b= -12.6077\n",
      "Epoch: 8500 , loss=0.0219,  기울기 a1=-0.3112, 기울기 a2=3.0375, 절편 b= -12.8478\n",
      "Epoch: 9000 , loss=0.0207,  기울기 a1=-0.3346, 기울기 a2=3.1152, 절편 b= -13.0748\n",
      "Epoch: 9500 , loss=0.0197,  기울기 a1=-0.3564, 기울기 a2=3.1885, 절편 b= -13.2902\n"
     ]
    }
   ],
   "source": [
    "import tensorflow as tf \n",
    "import numpy as np\n",
    "\n",
    "x_data = np.array( [[2,3],[4,3],[6,4],[8,6],[10, 7], [12, 8], [14, 9]] )\n",
    "y_data= np.array([0, 0, 0, 1, 1, 1,1] ).reshape(7, 1)\n",
    "\n",
    "#입력값을 placeholder에 저장\n",
    "X= tf.placeholder(tf.float64, shape=[None, 2])\n",
    "Y = tf.placeholder(tf.float64, shape=[None, 1])\n",
    " \n",
    "#실행할 때마다 동일한 출력(결과)를 얻기 위한 값 설정\n",
    "seed = 0\n",
    "np.random.seed(seed)\n",
    "tf.set_random_seed(seed)\n",
    "\n",
    "#임의의 a, b 값을 변수로 정의\n",
    "a = tf.Variable(tf.random_uniform([2, 1], dtype=tf.float64))  #[2, 1]은 들어오는  값은 2개 나가는 값은 1개\n",
    "b = tf.Variable(tf.random_uniform([1], dtype=tf.float64))\n",
    "\n",
    "#시그모이드 함수 방정식 정의\n",
    "y = tf.sigmoid(tf.matmul(X, a) + b)\n",
    "\n",
    "#오차 loss 구하는 함수\n",
    "loss = -tf.reduce_mean(Y*tf.log(y)+(1-Y)*tf.log(1-y))\n",
    "\n",
    "#학습률\n",
    "learning_rate = 0.1\n",
    "\n",
    "# 오차 loss 값이 최소인 값 찾는 식 정의\n",
    "gradient_descent = tf.train.GradientDescentOptimizer(learning_rate).minimize(loss)\n",
    "\n",
    "predicted = tf.cast(y >0.5, dtype=tf.float64)\n",
    "accuracy = tf.reduce_mean(tf.cast(tf.equal(predicted, Y), dtype=tf.float64))\n",
    "\n",
    "#tf.cast() 함수는 형변환(캐스팅) 수행 => 부동소수점형(실수)를 정수형으로 변환할때는 소수점이하 버림\n",
    "#bool (논리) 자료형을 정수형으로 변환할때는 True는 1, False는 0으로\n",
    "\n",
    "#텐서플로 이용하여 학습\n",
    "with tf.Session() as sess:\n",
    "    sess.run(tf.global_variables_initializer())     # 변수들을 메모리에 생성, 초기화\n",
    "    for step in range(10000):\n",
    "        a_, b_, loss_, _ = sess.run([a, b, loss, gradient_descent], feed_dict={X:x_data, Y:y_data})\n",
    "        if step % 500 == 0:\n",
    "            print(\"Epoch: %.f , loss=%.4f,  기울기 a1=%.4f, 기울기 a2=%.4f, 절편 b= %.4f\" % (step,  loss_,  a_[0], a_[1],  b_))"
   ]
  },
  {
   "cell_type": "code",
   "execution_count": 63,
   "metadata": {},
   "outputs": [
    {
     "name": "stdout",
     "output_type": "stream",
     "text": [
      "입력값 :(0, 0)   출력값 :0\n",
      "입력값 :(0, 1)   출력값 :1\n",
      "입력값 :(1, 0)   출력값 :1\n",
      "입력값 :(1, 1)   출력값 :0\n"
     ]
    }
   ],
   "source": [
    "import tensorflow as tf \n",
    "import numpy as np\n",
    "\n",
    "#가중치와 바이어스\n",
    "w11 = np.array([-2, -2])\n",
    "w12 = np.array([2, 2])\n",
    "\n",
    "w2 = np.array([1, 1])\n",
    "\n",
    "b1 = 3\n",
    "b2 = -1\n",
    "b3 = -1\n",
    "\n",
    "#퍼셉트론\n",
    "def MLP(x, w, b):\n",
    "    y = np.sum(w*x) + b\n",
    "    if y<=0:\n",
    "        return 0\n",
    "    else :\n",
    "        return 1\n",
    "\n",
    "\n",
    "#NAND게이트\n",
    "def NAND(x1, x2):\n",
    "    return MLP(np.array([x1, x2]), w11, b1)\n",
    "\n",
    "#OR게이트\n",
    "def OR(x1, x2):\n",
    "    return MLP(np.array([x1, x2]), w12, b2)\n",
    "\n",
    "#AND게이트\n",
    "def AND(x1, x2):\n",
    "    return MLP(np.array([x1, x2]), w2, b3)\n",
    "\n",
    "#XOR게이트\n",
    "def XOR(x1, x2):\n",
    "    return  AND(NAND(x1,x2), OR(x1, x2))\n",
    "\n",
    "if __name__ =='__main__' :\n",
    "    for x in [(0, 0), (0, 1), (1, 0), (1, 1)] :\n",
    "        y = XOR(x[0], x[1])\n",
    "        print(\"입력값 :\"+str(x) +\"   출력값 :\"+ str(y))\n"
   ]
  },
  {
   "cell_type": "code",
   "execution_count": null,
   "metadata": {},
   "outputs": [],
   "source": []
  }
 ],
 "metadata": {
  "kernelspec": {
   "display_name": "Python 3",
   "language": "python",
   "name": "python3"
  },
  "language_info": {
   "codemirror_mode": {
    "name": "ipython",
    "version": 3
   },
   "file_extension": ".py",
   "mimetype": "text/x-python",
   "name": "python",
   "nbconvert_exporter": "python",
   "pygments_lexer": "ipython3",
   "version": "3.7.5"
  }
 },
 "nbformat": 4,
 "nbformat_minor": 2
}
