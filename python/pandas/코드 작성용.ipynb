{
 "cells": [
  {
   "cell_type": "code",
   "execution_count": 76,
   "metadata": {},
   "outputs": [
    {
     "name": "stdout",
     "output_type": "stream",
     "text": [
      "0    1\n",
      "1    2\n",
      "2    3\n",
      "3    4\n",
      "dtype: int64\n",
      "0    0\n",
      "1    1\n",
      "2    2\n",
      "3    3\n",
      "dtype: int64\n",
      "a    1\n",
      "b    2\n",
      "dtype: int64\n",
      "0    10\n",
      "dtype: int64\n"
     ]
    }
   ],
   "source": [
    "# pd.Series() 객체생성\n",
    "\n",
    "import pandas as pd\n",
    "import numpy as np\n",
    "\n",
    "print(pd.Series([1,2,3,4])) # 리스트로 생성\n",
    "print(pd.Series(range(4))) # 레인지로 생성\n",
    "print(pd.Series({'a':1, 'b':2})) # 딕셔너리로 생성\n",
    "print(pd.Series(10))\n",
    "# print(pd.Series(set([1,2,3,4]))) 에러"
   ]
  },
  {
   "cell_type": "code",
   "execution_count": 77,
   "metadata": {},
   "outputs": [
    {
     "name": "stdout",
     "output_type": "stream",
     "text": [
      "1    1\n",
      "2    2\n",
      "3    3\n",
      "dtype: int64\n",
      "a    1\n",
      "b    2\n",
      "c    3\n",
      "dtype: int64\n",
      "a    1\n",
      "a    2\n",
      "c    3\n",
      "dtype: int64\n",
      "a    1\n",
      "a    2\n",
      "c    3\n",
      "dtype: int64\n"
     ]
    }
   ],
   "source": [
    "# pd.Series() 객체생성, index\n",
    "print(pd.Series([1,2,3], [1,2,3])) # 인덱스를 리스트에 담아\n",
    "print(pd.Series([1,2,3], ['a','b','c'])) # 문자열 인덱스\n",
    "print(pd.Series([1,2,3], ['a','a','c'])) # 중복가능\n",
    "print(pd.Series([1,2,3], ['a','a','c']))"
   ]
  },
  {
   "cell_type": "code",
   "execution_count": 78,
   "metadata": {},
   "outputs": [
    {
     "name": "stdout",
     "output_type": "stream",
     "text": [
      "0    1\n",
      "1    2\n",
      "2    3\n",
      "dtype: int64\n",
      "0    1\n",
      "1    2\n",
      "2    3\n",
      "dtype: int64\n",
      "0    1\n",
      "1    2\n",
      "2    3\n",
      "dtype: object\n",
      "0    1\n",
      "1    2\n",
      "2    3\n",
      "dtype: object\n"
     ]
    }
   ],
   "source": [
    "# pd.Series() 객체생성, dtype\n",
    "print(pd.Series([1,2,3])) # value 맞춤: int\n",
    "print(pd.Series(['1','2','3'], dtype=np.int64)) # dtype 적용\n",
    "print(pd.Series(['1',2,'3'])) # 숫자 이외는 object\n",
    "print(pd.Series(['1','2','3'])) # 숫자 이외는 object"
   ]
  },
  {
   "cell_type": "code",
   "execution_count": 79,
   "metadata": {},
   "outputs": [
    {
     "data": {
      "text/plain": [
       "0    False\n",
       "1    False\n",
       "2     True\n",
       "dtype: bool"
      ]
     },
     "execution_count": 79,
     "metadata": {},
     "output_type": "execute_result"
    }
   ],
   "source": [
    "# boolean array, series + 비교연산자\n",
    "series = pd.Series([1,2,3])\n",
    "series > 2"
   ]
  },
  {
   "cell_type": "code",
   "execution_count": 93,
   "metadata": {},
   "outputs": [
    {
     "name": "stdout",
     "output_type": "stream",
     "text": [
      "            max_speed  shield\n",
      "cobra               1       2\n",
      "viper               4       5\n",
      "sidewinder          7       8 \n",
      "\n",
      "max_speed    1\n",
      "shield       2\n",
      "Name: cobra, dtype: int64 \n",
      "\n",
      "            max_speed  shield\n",
      "cobra               1       2\n",
      "sidewinder          7       8 \n",
      "\n",
      "            max_speed  shield\n",
      "cobra               1       2\n",
      "viper               4       5\n",
      "sidewinder          7       8 \n",
      "\n",
      "cobra         2\n",
      "viper         5\n",
      "sidewinder    8\n",
      "Name: shield, dtype: int64 \n",
      "\n",
      "            shield  max_speed\n",
      "cobra            2          1\n",
      "viper            5          4\n",
      "sidewinder       8          7 \n",
      "\n",
      "            max_speed  shield\n",
      "cobra               1       2\n",
      "viper               4       5\n",
      "sidewinder          7       8 \n",
      "\n",
      "   0  1\n",
      "0  1  2\n",
      "1  4  5\n",
      "2  7  8 \n",
      "\n",
      "2\n"
     ]
    }
   ],
   "source": [
    "#df.loc\n",
    "df = pd.DataFrame([[1, 2], [4, 5], [7, 8]],\n",
    "      index=['cobra', 'viper', 'sidewinder'],\n",
    "      columns=['max_speed', 'shield'])\n",
    "print(df, '\\n')\n",
    "print(df.loc['cobra'], '\\n')\n",
    "print(df.loc[['cobra','sidewinder']], '\\n')\n",
    "print(df.loc['cobra':'sidewinder'], '\\n')\n",
    "\n",
    "print(df.loc[:, 'shield'], '\\n')\n",
    "print(df.loc[:, ['shield', 'max_speed']], '\\n')\n",
    "print(df.loc[:, 'max_speed':'shield'], '\\n')\n",
    "\n",
    "df = pd.DataFrame([[1, 2], [4, 5], [7, 8]])\n",
    "print(df, '\\n')\n",
    "print(df.iloc[0,1])"
   ]
  },
  {
   "cell_type": "code",
   "execution_count": 111,
   "metadata": {},
   "outputs": [
    {
     "data": {
      "text/html": [
       "<div>\n",
       "<style scoped>\n",
       "    .dataframe tbody tr th:only-of-type {\n",
       "        vertical-align: middle;\n",
       "    }\n",
       "\n",
       "    .dataframe tbody tr th {\n",
       "        vertical-align: top;\n",
       "    }\n",
       "\n",
       "    .dataframe thead th {\n",
       "        text-align: right;\n",
       "    }\n",
       "</style>\n",
       "<table border=\"1\" class=\"dataframe\">\n",
       "  <thead>\n",
       "    <tr style=\"text-align: right;\">\n",
       "      <th></th>\n",
       "      <th>0</th>\n",
       "      <th>1</th>\n",
       "    </tr>\n",
       "  </thead>\n",
       "  <tbody>\n",
       "    <tr>\n",
       "      <th>0</th>\n",
       "      <td>1</td>\n",
       "      <td>2</td>\n",
       "    </tr>\n",
       "    <tr>\n",
       "      <th>1</th>\n",
       "      <td>4</td>\n",
       "      <td>5</td>\n",
       "    </tr>\n",
       "    <tr>\n",
       "      <th>2</th>\n",
       "      <td>7</td>\n",
       "      <td>8</td>\n",
       "    </tr>\n",
       "  </tbody>\n",
       "</table>\n",
       "</div>"
      ],
      "text/plain": [
       "   0  1\n",
       "0  1  2\n",
       "1  4  5\n",
       "2  7  8"
      ]
     },
     "execution_count": 111,
     "metadata": {},
     "output_type": "execute_result"
    }
   ],
   "source": [
    "df.loc[:, df[0] > 1]"
   ]
  },
  {
   "cell_type": "code",
   "execution_count": null,
   "metadata": {},
   "outputs": [],
   "source": []
  }
 ],
 "metadata": {
  "kernelspec": {
   "display_name": "Python 3",
   "language": "python",
   "name": "python3"
  },
  "language_info": {
   "codemirror_mode": {
    "name": "ipython",
    "version": 3
   },
   "file_extension": ".py",
   "mimetype": "text/x-python",
   "name": "python",
   "nbconvert_exporter": "python",
   "pygments_lexer": "ipython3",
   "version": "3.7.5"
  }
 },
 "nbformat": 4,
 "nbformat_minor": 2
}
