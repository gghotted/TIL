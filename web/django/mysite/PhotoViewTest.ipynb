{
 "cells": [
  {
   "cell_type": "code",
   "execution_count": 11,
   "metadata": {
    "ExecuteTime": {
     "end_time": "2020-02-21T06:50:13.927626Z",
     "start_time": "2020-02-21T06:50:13.923666Z"
    }
   },
   "outputs": [],
   "source": [
    "from django.core.files.uploadedfile import SimpleUploadedFile\n",
    "from django.test import RequestFactory\n",
    "from django.contrib.auth.models import User\n",
    "from django.views.generic import View\n",
    "rf = RequestFactory()"
   ]
  },
  {
   "cell_type": "code",
   "execution_count": 8,
   "metadata": {
    "ExecuteTime": {
     "end_time": "2020-02-21T06:46:50.263869Z",
     "start_time": "2020-02-21T06:46:50.258853Z"
    }
   },
   "outputs": [],
   "source": [
    "f = open('static/dog.jpg', 'rb')\n",
    "file_upload = SimpleUploadedFile('dog.jpg', f.read(),\n",
    "                                 content_type='image/jpeg')\n",
    "\n",
    "data = {\n",
    "    'filename':file_upload, 'username' : 'song'\n",
    "}\n",
    "request = rf.post('/board/photo', data=data, format='multipart')"
   ]
  },
  {
   "cell_type": "code",
   "execution_count": 12,
   "metadata": {
    "ExecuteTime": {
     "end_time": "2020-02-21T07:02:15.492243Z",
     "start_time": "2020-02-21T07:02:15.484299Z"
    }
   },
   "outputs": [],
   "source": [
    "class PhotoView(View):\n",
    "    def get(self, request):\n",
    "        images = self.get_images(request.user.username)\n",
    "        return render(request, 'board/photolist.html', {'images': images})\n",
    "\n",
    "    def post(self, request):\n",
    "        # 물리경로에 세이브\n",
    "        file = request.FILES['filename']\n",
    "        username = request.POST['username']\n",
    "        save_path = f'{settings.BASE_DIR}/static/faces/{username}/{file.name}'\n",
    "        fs = FileSystemStorage()\n",
    "        fs.save(save_path, file)\n",
    "\n",
    "        # db에 세이브\n",
    "        cursor = connection.cursor()\n",
    "        self.insert_img(username, file.name)\n",
    "        return redirect('board:photo')\n",
    "\n",
    "    def get_images(self, username):\n",
    "        cursor = connection.cursor()\n",
    "        cursor.execute(f'''\n",
    "        SELECT filename FROM board_image i JOIN auth_user u\n",
    "        ON i.author_id = u.id\n",
    "        WHERE u.username = '{username}'\n",
    "        ''')\n",
    "        return dictfetchall(cursor)\n",
    "\n",
    "    def insert_img(self, username, filename):\n",
    "        cursor = connection.cursor()\n",
    "        sql = f\"SELECT id from auth_user WHERE username='{username}'\"\n",
    "        cursor.execute(sql)\n",
    "\n",
    "        author_id = cursor.fetchone()[0]\n",
    "\n",
    "        sql = f'''\n",
    "        INSERT INTO board_image\n",
    "        (\"author_id\", \"filename\")\n",
    "        VALUES ({author_id}, '{filename}');\n",
    "        '''\n",
    "        cursor.execute(sql)"
   ]
  },
  {
   "cell_type": "code",
   "execution_count": null,
   "metadata": {},
   "outputs": [],
   "source": [
    "if request.method == 'POST':\n",
    "    post(request)"
   ]
  }
 ],
 "metadata": {
  "kernelspec": {
   "display_name": "Django Shell-Plus",
   "language": "python",
   "name": "django_extensions"
  },
  "language_info": {
   "codemirror_mode": {
    "name": "ipython",
    "version": 3
   },
   "file_extension": ".py",
   "mimetype": "text/x-python",
   "name": "python",
   "nbconvert_exporter": "python",
   "pygments_lexer": "ipython3",
   "version": "3.6.10"
  },
  "varInspector": {
   "cols": {
    "lenName": 16,
    "lenType": 16,
    "lenVar": 40
   },
   "kernels_config": {
    "python": {
     "delete_cmd_postfix": "",
     "delete_cmd_prefix": "del ",
     "library": "var_list.py",
     "varRefreshCmd": "print(var_dic_list())"
    },
    "r": {
     "delete_cmd_postfix": ") ",
     "delete_cmd_prefix": "rm(",
     "library": "var_list.r",
     "varRefreshCmd": "cat(var_dic_list()) "
    }
   },
   "types_to_exclude": [
    "module",
    "function",
    "builtin_function_or_method",
    "instance",
    "_Feature"
   ],
   "window_display": false
  }
 },
 "nbformat": 4,
 "nbformat_minor": 4
}
