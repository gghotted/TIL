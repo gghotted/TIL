{
 "cells": [
  {
   "cell_type": "code",
   "execution_count": 10,
   "metadata": {
    "ExecuteTime": {
     "end_time": "2020-02-20T02:37:11.593959Z",
     "start_time": "2020-02-20T02:37:11.590952Z"
    }
   },
   "outputs": [],
   "source": [
    "from board import models\n",
    "from django.core import serializers"
   ]
  },
  {
   "cell_type": "code",
   "execution_count": 16,
   "metadata": {
    "ExecuteTime": {
     "end_time": "2020-02-20T02:39:47.740869Z",
     "start_time": "2020-02-20T02:39:47.735898Z"
    }
   },
   "outputs": [
    {
     "data": {
      "text/plain": [
       "<QuerySet [<Board: 2시 54분임 ???>, <Board: common category test>, <Board: common category test>]>"
      ]
     },
     "execution_count": 16,
     "metadata": {},
     "output_type": "execute_result"
    }
   ],
   "source": [
    "page = 1\n",
    "posts = models.Board.objects.filter(category='common')\n",
    "num_of_page = 3\n",
    "posts = posts[(page-1)*num_of_page:page*num_of_page]\n",
    "posts"
   ]
  },
  {
   "cell_type": "code",
   "execution_count": 17,
   "metadata": {
    "ExecuteTime": {
     "end_time": "2020-02-20T02:39:50.212943Z",
     "start_time": "2020-02-20T02:39:50.207959Z"
    }
   },
   "outputs": [
    {
     "data": {
      "text/plain": [
       "'[{\"model\": \"board.board\", \"pk\": 1, \"fields\": {\"author\": 2, \"title\": \"2\\\\uc2dc 54\\\\ubd84\\\\uc784 ???\", \"text\": \"\\\\u3148\\\\u3131\\\\u3134\", \"created_date\": \"2020-02-19T05:55:54.721Z\", \"views\": 9, \"image\": null, \"category\": \"common\"}}, {\"model\": \"board.board\", \"pk\": 3, \"fields\": {\"author\": 2, \"title\": \"common category test\", \"text\": \"common category test\", \"created_date\": \"2020-02-19T07:13:17.267Z\", \"views\": 2, \"image\": null, \"category\": \"common\"}}, {\"model\": \"board.board\", \"pk\": 4, \"fields\": {\"author\": 2, \"title\": \"common category test\", \"text\": \"common category test\", \"created_date\": \"2020-02-19T07:15:05.030Z\", \"views\": 2, \"image\": null, \"category\": \"common\"}}]'"
      ]
     },
     "execution_count": 17,
     "metadata": {},
     "output_type": "execute_result"
    }
   ],
   "source": [
    "serializers.serialize('json', posts)"
   ]
  },
  {
   "cell_type": "code",
   "execution_count": 24,
   "metadata": {
    "ExecuteTime": {
     "end_time": "2020-02-20T02:41:37.525180Z",
     "start_time": "2020-02-20T02:41:37.520194Z"
    }
   },
   "outputs": [
    {
     "data": {
      "text/plain": [
       "[{'_state': <django.db.models.base.ModelState at 0x2a165ade940>,\n",
       "  'id': 1,\n",
       "  'author_id': 2,\n",
       "  'title': '2시 54분임 ???',\n",
       "  'text': 'ㅈㄱㄴ',\n",
       "  'created_date': datetime.datetime(2020, 2, 19, 5, 55, 54, 721552, tzinfo=<UTC>),\n",
       "  'views': 9,\n",
       "  'image': None,\n",
       "  'category': 'common'},\n",
       " {'_state': <django.db.models.base.ModelState at 0x2a165adeac8>,\n",
       "  'id': 3,\n",
       "  'author_id': 2,\n",
       "  'title': 'common category test',\n",
       "  'text': 'common category test',\n",
       "  'created_date': datetime.datetime(2020, 2, 19, 7, 13, 17, 267797, tzinfo=<UTC>),\n",
       "  'views': 2,\n",
       "  'image': None,\n",
       "  'category': 'common'},\n",
       " {'_state': <django.db.models.base.ModelState at 0x2a165ba13c8>,\n",
       "  'id': 4,\n",
       "  'author_id': 2,\n",
       "  'title': 'common category test',\n",
       "  'text': 'common category test',\n",
       "  'created_date': datetime.datetime(2020, 2, 19, 7, 15, 5, 30187, tzinfo=<UTC>),\n",
       "  'views': 2,\n",
       "  'image': None,\n",
       "  'category': 'common'}]"
      ]
     },
     "execution_count": 24,
     "metadata": {},
     "output_type": "execute_result"
    }
   ],
   "source": [
    "posts_dict = [post.__dict__ for post in posts]\n",
    "posts_dict"
   ]
  },
  {
   "cell_type": "code",
   "execution_count": 27,
   "metadata": {
    "ExecuteTime": {
     "end_time": "2020-02-20T02:44:26.501325Z",
     "start_time": "2020-02-20T02:44:26.496375Z"
    },
    "scrolled": false
   },
   "outputs": [
    {
     "data": {
      "text/plain": [
       "{'posts': [{'_state': <django.db.models.base.ModelState at 0x2a165ade940>,\n",
       "   'id': 1,\n",
       "   'author_id': 2,\n",
       "   'title': '2시 54분임 ???',\n",
       "   'text': 'ㅈㄱㄴ',\n",
       "   'created_date': datetime.datetime(2020, 2, 19, 5, 55, 54, 721552, tzinfo=<UTC>),\n",
       "   'views': 9,\n",
       "   'image': None,\n",
       "   'category': 'common'},\n",
       "  {'_state': <django.db.models.base.ModelState at 0x2a165adeac8>,\n",
       "   'id': 3,\n",
       "   'author_id': 2,\n",
       "   'title': 'common category test',\n",
       "   'text': 'common category test',\n",
       "   'created_date': datetime.datetime(2020, 2, 19, 7, 13, 17, 267797, tzinfo=<UTC>),\n",
       "   'views': 2,\n",
       "   'image': None,\n",
       "   'category': 'common'},\n",
       "  {'_state': <django.db.models.base.ModelState at 0x2a165ba13c8>,\n",
       "   'id': 4,\n",
       "   'author_id': 2,\n",
       "   'title': 'common category test',\n",
       "   'text': 'common category test',\n",
       "   'created_date': datetime.datetime(2020, 2, 19, 7, 15, 5, 30187, tzinfo=<UTC>),\n",
       "   'views': 2,\n",
       "   'image': None,\n",
       "   'category': 'common'}]}"
      ]
     },
     "execution_count": 27,
     "metadata": {},
     "output_type": "execute_result"
    }
   ],
   "source": [
    "send_data = {'posts': posts_dict}\n",
    "send_data"
   ]
  },
  {
   "cell_type": "code",
   "execution_count": 29,
   "metadata": {
    "ExecuteTime": {
     "end_time": "2020-02-20T02:51:31.648540Z",
     "start_time": "2020-02-20T02:51:31.639878Z"
    }
   },
   "outputs": [
    {
     "data": {
      "text/plain": [
       "dict"
      ]
     },
     "execution_count": 29,
     "metadata": {},
     "output_type": "execute_result"
    }
   ],
   "source": [
    "type(posts[0].__dict__)"
   ]
  }
 ],
 "metadata": {
  "kernelspec": {
   "display_name": "Django Shell-Plus",
   "language": "python",
   "name": "django_extensions"
  },
  "language_info": {
   "codemirror_mode": {
    "name": "ipython",
    "version": 3
   },
   "file_extension": ".py",
   "mimetype": "text/x-python",
   "name": "python",
   "nbconvert_exporter": "python",
   "pygments_lexer": "ipython3",
   "version": "3.6.10"
  },
  "varInspector": {
   "cols": {
    "lenName": 16,
    "lenType": 16,
    "lenVar": 40
   },
   "kernels_config": {
    "python": {
     "delete_cmd_postfix": "",
     "delete_cmd_prefix": "del ",
     "library": "var_list.py",
     "varRefreshCmd": "print(var_dic_list())"
    },
    "r": {
     "delete_cmd_postfix": ") ",
     "delete_cmd_prefix": "rm(",
     "library": "var_list.r",
     "varRefreshCmd": "cat(var_dic_list()) "
    }
   },
   "types_to_exclude": [
    "module",
    "function",
    "builtin_function_or_method",
    "instance",
    "_Feature"
   ],
   "window_display": false
  }
 },
 "nbformat": 4,
 "nbformat_minor": 4
}
