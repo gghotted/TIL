{
 "cells": [
  {
   "cell_type": "code",
   "execution_count": 1,
   "metadata": {
    "ExecuteTime": {
     "end_time": "2020-02-20T08:00:52.117917Z",
     "start_time": "2020-02-20T08:00:51.619652Z"
    }
   },
   "outputs": [],
   "source": [
    "from django.test import RequestFactory\n",
    "rf = RequestFactory()"
   ]
  },
  {
   "cell_type": "code",
   "execution_count": 2,
   "metadata": {
    "ExecuteTime": {
     "end_time": "2020-02-20T08:03:02.834436Z",
     "start_time": "2020-02-20T08:03:02.831431Z"
    }
   },
   "outputs": [],
   "source": [
    "url = '/board/ajaxget?page=1'\n",
    "request = rf.get(url)"
   ]
  },
  {
   "cell_type": "code",
   "execution_count": 8,
   "metadata": {
    "ExecuteTime": {
     "end_time": "2020-02-20T08:09:36.158897Z",
     "start_time": "2020-02-20T08:09:36.150906Z"
    }
   },
   "outputs": [],
   "source": [
    "from board import models\n",
    "from django.http import JsonResponse\n",
    "from board.views import ajax_get"
   ]
  },
  {
   "cell_type": "code",
   "execution_count": 9,
   "metadata": {
    "ExecuteTime": {
     "end_time": "2020-02-20T08:09:38.835390Z",
     "start_time": "2020-02-20T08:09:38.829472Z"
    }
   },
   "outputs": [
    {
     "data": {
      "text/plain": [
       "'{\"posts\": [{\"id\": 1, \"title\": \"2\\\\uc2dc 54\\\\ubd84\\\\uc784 ???\", \"views\": 9}, {\"id\": 3, \"title\": \"common category test\", \"views\": 2}, {\"id\": 8, \"title\": \"\\\\uc810\\\\uc2ec\\\\uba54\\\\ub274 \\\\ubb54\\\\uc9c0 \\\\uc544\\\\uc2dc\\\\ub294\\\\ubd84?\", \"views\": 0}]}'"
      ]
     },
     "execution_count": 9,
     "metadata": {},
     "output_type": "execute_result"
    }
   ],
   "source": [
    "response = ajax_get(request)\n",
    "response.content.decode()"
   ]
  }
 ],
 "metadata": {
  "kernelspec": {
   "display_name": "Django Shell-Plus",
   "language": "python",
   "name": "django_extensions"
  },
  "language_info": {
   "codemirror_mode": {
    "name": "ipython",
    "version": 3
   },
   "file_extension": ".py",
   "mimetype": "text/x-python",
   "name": "python",
   "nbconvert_exporter": "python",
   "pygments_lexer": "ipython3",
   "version": "3.6.10"
  },
  "varInspector": {
   "cols": {
    "lenName": 16,
    "lenType": 16,
    "lenVar": 40
   },
   "kernels_config": {
    "python": {
     "delete_cmd_postfix": "",
     "delete_cmd_prefix": "del ",
     "library": "var_list.py",
     "varRefreshCmd": "print(var_dic_list())"
    },
    "r": {
     "delete_cmd_postfix": ") ",
     "delete_cmd_prefix": "rm(",
     "library": "var_list.r",
     "varRefreshCmd": "cat(var_dic_list()) "
    }
   },
   "types_to_exclude": [
    "module",
    "function",
    "builtin_function_or_method",
    "instance",
    "_Feature"
   ],
   "window_display": false
  }
 },
 "nbformat": 4,
 "nbformat_minor": 4
}
