{
 "cells": [
  {
   "cell_type": "code",
   "execution_count": 2,
   "metadata": {
    "ExecuteTime": {
     "end_time": "2020-02-21T05:06:32.407717Z",
     "start_time": "2020-02-21T05:06:32.403728Z"
    }
   },
   "outputs": [],
   "source": [
    "from django.db import connection\n",
    "from django.contrib.auth.models import User\n",
    "from board import models\n",
    "cursor = connection.cursor()"
   ]
  },
  {
   "cell_type": "code",
   "execution_count": 2,
   "metadata": {
    "ExecuteTime": {
     "end_time": "2020-02-21T00:16:18.753151Z",
     "start_time": "2020-02-21T00:16:18.749203Z"
    }
   },
   "outputs": [],
   "source": [
    "users = User.objects.all()"
   ]
  },
  {
   "cell_type": "code",
   "execution_count": 7,
   "metadata": {
    "ExecuteTime": {
     "end_time": "2020-02-21T00:19:57.992569Z",
     "start_time": "2020-02-21T00:19:57.981590Z"
    }
   },
   "outputs": [],
   "source": [
    "models.Board??"
   ]
  },
  {
   "cell_type": "code",
   "execution_count": 11,
   "metadata": {
    "ExecuteTime": {
     "end_time": "2020-02-21T00:21:00.735524Z",
     "start_time": "2020-02-21T00:21:00.732528Z"
    },
    "scrolled": true
   },
   "outputs": [
    {
     "name": "stdout",
     "output_type": "stream",
     "text": [
      "{'sql': 'SELECT \"auth_user\".\"id\", \"auth_user\".\"password\", \"auth_user\".\"last_login\", \"auth_user\".\"is_superuser\", \"auth_user\".\"username\", \"auth_user\".\"first_name\", \"auth_user\".\"last_name\", \"auth_user\".\"email\", \"auth_user\".\"is_staff\", \"auth_user\".\"is_active\", \"auth_user\".\"date_joined\" FROM \"auth_user\" LIMIT 21', 'time': '0.001'} \n",
      "\n",
      "{'sql': 'SELECT \"auth_user\".\"id\", \"auth_user\".\"password\", \"auth_user\".\"last_login\", \"auth_user\".\"is_superuser\", \"auth_user\".\"username\", \"auth_user\".\"first_name\", \"auth_user\".\"last_name\", \"auth_user\".\"email\", \"auth_user\".\"is_staff\", \"auth_user\".\"is_active\", \"auth_user\".\"date_joined\" FROM \"auth_user\" LIMIT 21', 'time': '0.000'} \n",
      "\n",
      "{'sql': 'SELECT \"auth_user\".\"id\", \"auth_user\".\"password\", \"auth_user\".\"last_login\", \"auth_user\".\"is_superuser\", \"auth_user\".\"username\", \"auth_user\".\"first_name\", \"auth_user\".\"last_name\", \"auth_user\".\"email\", \"auth_user\".\"is_staff\", \"auth_user\".\"is_active\", \"auth_user\".\"date_joined\" FROM \"auth_user\" LIMIT 21', 'time': '0.000'} \n",
      "\n",
      "{'sql': 'SELECT \"auth_user\".\"id\", \"auth_user\".\"password\", \"auth_user\".\"last_login\", \"auth_user\".\"is_superuser\", \"auth_user\".\"username\", \"auth_user\".\"first_name\", \"auth_user\".\"last_name\", \"auth_user\".\"email\", \"auth_user\".\"is_staff\", \"auth_user\".\"is_active\", \"auth_user\".\"date_joined\" FROM \"auth_user\" LIMIT 21', 'time': '0.000'} \n",
      "\n",
      "{'sql': 'SELECT \"auth_user\".\"id\", \"auth_user\".\"password\", \"auth_user\".\"last_login\", \"auth_user\".\"is_superuser\", \"auth_user\".\"username\", \"auth_user\".\"first_name\", \"auth_user\".\"last_name\", \"auth_user\".\"email\", \"auth_user\".\"is_staff\", \"auth_user\".\"is_active\", \"auth_user\".\"date_joined\" FROM \"auth_user\" LIMIT 21', 'time': '0.000'} \n",
      "\n",
      "{'sql': 'SELECT \"auth_user\".\"id\", \"auth_user\".\"password\", \"auth_user\".\"last_login\", \"auth_user\".\"is_superuser\", \"auth_user\".\"username\", \"auth_user\".\"first_name\", \"auth_user\".\"last_name\", \"auth_user\".\"email\", \"auth_user\".\"is_staff\", \"auth_user\".\"is_active\", \"auth_user\".\"date_joined\" FROM \"auth_user\" LIMIT 21', 'time': '0.000'} \n",
      "\n",
      "{'sql': 'SELECT \"auth_user\".\"id\", \"auth_user\".\"password\", \"auth_user\".\"last_login\", \"auth_user\".\"is_superuser\", \"auth_user\".\"username\", \"auth_user\".\"first_name\", \"auth_user\".\"last_name\", \"auth_user\".\"email\", \"auth_user\".\"is_staff\", \"auth_user\".\"is_active\", \"auth_user\".\"date_joined\" FROM \"auth_user\" LIMIT 21', 'time': '0.000'} \n",
      "\n",
      "{'sql': 'SELECT \"auth_user\".\"id\", \"auth_user\".\"password\", \"auth_user\".\"last_login\", \"auth_user\".\"is_superuser\", \"auth_user\".\"username\", \"auth_user\".\"first_name\", \"auth_user\".\"last_name\", \"auth_user\".\"email\", \"auth_user\".\"is_staff\", \"auth_user\".\"is_active\", \"auth_user\".\"date_joined\" FROM \"auth_user\" LIMIT 21', 'time': '0.000'} \n",
      "\n",
      "{'sql': 'SELECT \"auth_user\".\"id\", \"auth_user\".\"password\", \"auth_user\".\"last_login\", \"auth_user\".\"is_superuser\", \"auth_user\".\"username\", \"auth_user\".\"first_name\", \"auth_user\".\"last_name\", \"auth_user\".\"email\", \"auth_user\".\"is_staff\", \"auth_user\".\"is_active\", \"auth_user\".\"date_joined\" FROM \"auth_user\" LIMIT 21', 'time': '0.000'} \n",
      "\n"
     ]
    }
   ],
   "source": [
    "for query in connection.queries:\n",
    "    print(query, '\\n')"
   ]
  },
  {
   "cell_type": "code",
   "execution_count": 12,
   "metadata": {
    "ExecuteTime": {
     "end_time": "2020-02-21T00:22:00.457921Z",
     "start_time": "2020-02-21T00:22:00.452823Z"
    }
   },
   "outputs": [
    {
     "data": {
      "text/plain": [
       "<RawQuerySet: SELECT max(age) FROM myapp_user>"
      ]
     },
     "execution_count": 12,
     "metadata": {},
     "output_type": "execute_result"
    }
   ],
   "source": [
    "User.objects.raw('SELECT max(age) FROM myapp_user')"
   ]
  },
  {
   "cell_type": "code",
   "execution_count": 14,
   "metadata": {
    "ExecuteTime": {
     "end_time": "2020-02-21T00:24:10.761635Z",
     "start_time": "2020-02-21T00:24:10.756693Z"
    }
   },
   "outputs": [
    {
     "data": {
      "text/plain": [
       "27"
      ]
     },
     "execution_count": 14,
     "metadata": {},
     "output_type": "execute_result"
    }
   ],
   "source": [
    "cursor = connection.cursor()\n",
    "cursor.execute('SELECT max(age) from myapp_user')\n",
    "max_value = cursor.fetchone()[0]\n",
    "\n",
    "max_value"
   ]
  },
  {
   "cell_type": "code",
   "execution_count": 18,
   "metadata": {
    "ExecuteTime": {
     "end_time": "2020-02-21T00:30:49.480787Z",
     "start_time": "2020-02-21T00:30:49.476776Z"
    }
   },
   "outputs": [],
   "source": [
    "cursor = connection.cursor()\n",
    "cursor.execute('SELECT id, title, views FROM board_board')\n",
    "results = cursor.fetchall()"
   ]
  },
  {
   "cell_type": "code",
   "execution_count": 19,
   "metadata": {
    "ExecuteTime": {
     "end_time": "2020-02-21T00:30:50.961678Z",
     "start_time": "2020-02-21T00:30:50.957688Z"
    }
   },
   "outputs": [
    {
     "data": {
      "text/plain": [
       "(1, '2시 54분임 ???', 9)"
      ]
     },
     "execution_count": 19,
     "metadata": {},
     "output_type": "execute_result"
    }
   ],
   "source": [
    "results[0]"
   ]
  },
  {
   "cell_type": "code",
   "execution_count": 32,
   "metadata": {
    "ExecuteTime": {
     "end_time": "2020-02-21T00:49:45.348491Z",
     "start_time": "2020-02-21T00:49:45.342507Z"
    }
   },
   "outputs": [
    {
     "data": {
      "text/plain": [
       "[('gghotted', '2시 54분임 ???'),\n",
       " ('gghotted', 'dog1123'),\n",
       " ('gghotted', 'common category test'),\n",
       " ('gghotted', 'django ..'),\n",
       " ('gghotted', 'sale 게시판 테스트'),\n",
       " ('gghotted', '장고 어렵다'),\n",
       " ('gghotted', '점심메뉴 뭔지 아시는분?'),\n",
       " ('gghotted', 'cute cat!'),\n",
       " ('gghotted', 'abcdef')]"
      ]
     },
     "execution_count": 32,
     "metadata": {},
     "output_type": "execute_result"
    }
   ],
   "source": [
    "cursor.execute('''\n",
    "SELECT u.username, title\n",
    "FROM board_board b\n",
    "JOIN auth_user u ON b.author_id = u.id\n",
    "Where u.username = 'gghotted'\n",
    "''')\n",
    "results = cursor.fetchall()\n",
    "results"
   ]
  },
  {
   "cell_type": "code",
   "execution_count": 35,
   "metadata": {
    "ExecuteTime": {
     "end_time": "2020-02-21T00:51:11.897473Z",
     "start_time": "2020-02-21T00:51:11.892486Z"
    }
   },
   "outputs": [
    {
     "data": {
      "text/plain": [
       "[('gghotted', '2시 54분임 ???'),\n",
       " ('gghotted', 'dog1123'),\n",
       " ('gghotted', 'common category test'),\n",
       " ('gghotted', 'django ..'),\n",
       " ('gghotted', 'sale 게시판 테스트'),\n",
       " ('gghotted', '장고 어렵다'),\n",
       " ('gghotted', '점심메뉴 뭔지 아시는분?'),\n",
       " ('gghotted', 'cute cat!'),\n",
       " ('gghotted', 'abcdef')]"
      ]
     },
     "execution_count": 35,
     "metadata": {},
     "output_type": "execute_result"
    }
   ],
   "source": [
    "cursor.execute('''\n",
    "SELECT u.username, title\n",
    "FROM board_board b, auth_user u\n",
    "Where u.id=b.author_id and u.username = 'gghotted'\n",
    "''')\n",
    "results = cursor.fetchall()\n",
    "results"
   ]
  },
  {
   "cell_type": "code",
   "execution_count": 36,
   "metadata": {
    "ExecuteTime": {
     "end_time": "2020-02-21T01:20:47.042997Z",
     "start_time": "2020-02-21T01:20:47.030572Z"
    }
   },
   "outputs": [
    {
     "data": {
      "text/plain": [
       "(('username', None, None, None, None, None, None),\n",
       " ('title', None, None, None, None, None, None))"
      ]
     },
     "execution_count": 36,
     "metadata": {},
     "output_type": "execute_result"
    }
   ],
   "source": [
    "cursor.description"
   ]
  },
  {
   "cell_type": "code",
   "execution_count": 42,
   "metadata": {
    "ExecuteTime": {
     "end_time": "2020-02-21T01:32:50.066727Z",
     "start_time": "2020-02-21T01:32:50.054972Z"
    }
   },
   "outputs": [
    {
     "data": {
      "text/plain": [
       "[{'username': 'gghotted', 'title': '2시 54분임 ???'},\n",
       " {'username': 'gghotted', 'title': 'dog1123'},\n",
       " {'username': 'gghotted', 'title': 'common category test'},\n",
       " {'username': 'gghotted', 'title': 'django ..'},\n",
       " {'username': 'gghotted', 'title': 'sale 게시판 테스트'},\n",
       " {'username': 'gghotted', 'title': '장고 어렵다'},\n",
       " {'username': 'gghotted', 'title': '점심메뉴 뭔지 아시는분?'},\n",
       " {'username': 'gghotted', 'title': 'cute cat!'},\n",
       " {'username': 'gghotted', 'title': 'abcdef'}]"
      ]
     },
     "execution_count": 42,
     "metadata": {},
     "output_type": "execute_result"
    }
   ],
   "source": [
    "# zip to dict\n",
    "dicts = [dict(zip(['username', 'title'], [row[0], row[1]]))\n",
    "         for row in results]\n",
    "\n",
    "dicts"
   ]
  },
  {
   "cell_type": "code",
   "execution_count": 41,
   "metadata": {
    "ExecuteTime": {
     "end_time": "2020-02-21T01:32:45.162598Z",
     "start_time": "2020-02-21T01:32:45.156548Z"
    }
   },
   "outputs": [
    {
     "data": {
      "text/plain": [
       "[{'username': 'gghotted', 'title': '2시 54분임 ???'},\n",
       " {'username': 'gghotted', 'title': 'dog1123'},\n",
       " {'username': 'gghotted', 'title': 'common category test'},\n",
       " {'username': 'gghotted', 'title': 'django ..'},\n",
       " {'username': 'gghotted', 'title': 'sale 게시판 테스트'},\n",
       " {'username': 'gghotted', 'title': '장고 어렵다'},\n",
       " {'username': 'gghotted', 'title': '점심메뉴 뭔지 아시는분?'},\n",
       " {'username': 'gghotted', 'title': 'cute cat!'},\n",
       " {'username': 'gghotted', 'title': 'abcdef'}]"
      ]
     },
     "execution_count": 41,
     "metadata": {},
     "output_type": "execute_result"
    }
   ],
   "source": [
    "# zip to dict\n",
    "dicts = [dict(zip([name[0] for name in cursor.description], row))\n",
    "         for row in results]\n",
    "\n",
    "dicts"
   ]
  },
  {
   "cell_type": "code",
   "execution_count": 40,
   "metadata": {
    "ExecuteTime": {
     "end_time": "2020-02-21T01:32:30.674303Z",
     "start_time": "2020-02-21T01:32:30.668319Z"
    }
   },
   "outputs": [
    {
     "data": {
      "text/plain": [
       "[{'username': 'gghotted', 'title': '2시 54분임 ???'},\n",
       " {'username': 'gghotted', 'title': 'dog1123'},\n",
       " {'username': 'gghotted', 'title': 'common category test'},\n",
       " {'username': 'gghotted', 'title': 'django ..'},\n",
       " {'username': 'gghotted', 'title': 'sale 게시판 테스트'},\n",
       " {'username': 'gghotted', 'title': '장고 어렵다'},\n",
       " {'username': 'gghotted', 'title': '점심메뉴 뭔지 아시는분?'},\n",
       " {'username': 'gghotted', 'title': 'cute cat!'},\n",
       " {'username': 'gghotted', 'title': 'abcdef'}]"
      ]
     },
     "execution_count": 40,
     "metadata": {},
     "output_type": "execute_result"
    }
   ],
   "source": [
    "def dictfetchall(cursor):\n",
    "    desc = cursor.description\n",
    "    return [\n",
    "        dict(zip([col[0] for col in desc], row))\n",
    "        for row in cursor.fetchall()\n",
    "    ]\n",
    "\n",
    "cursor.execute('''\n",
    "SELECT u.username, title\n",
    "FROM board_board b, auth_user u\n",
    "Where u.id=b.author_id and u.username = 'gghotted'\n",
    "''')\n",
    "\n",
    " dictfetchall(cursor)"
   ]
  },
  {
   "cell_type": "code",
   "execution_count": null,
   "metadata": {},
   "outputs": [],
   "source": [
    "Post.objects.all()\n",
    "\n"
   ]
  },
  {
   "cell_type": "code",
   "execution_count": 47,
   "metadata": {
    "ExecuteTime": {
     "end_time": "2020-02-21T02:14:38.456950Z",
     "start_time": "2020-02-21T02:14:38.452029Z"
    }
   },
   "outputs": [
    {
     "data": {
      "text/plain": [
       "[{'username': 'gghotted', 'title': '2시 54분임 ???', 'views': 9},\n",
       " {'username': 'gghotted', 'title': 'common category test', 'views': 2},\n",
       " {'username': 'gghotted', 'title': '점심메뉴 뭔지 아시는분?', 'views': 0}]"
      ]
     },
     "execution_count": 47,
     "metadata": {},
     "output_type": "execute_result"
    }
   ],
   "source": [
    "username = 'gghotted'\n",
    "category = 'common'\n",
    "page = 1\n",
    "\n",
    "cursor = connection.cursor()\n",
    "cursor.execute(f'''\n",
    "SELECT username, title, views\n",
    "From board_board, auth_user\n",
    "WHERE username = '{username}' and category = '{category}'\n",
    "''')\n",
    "posts = dictfetchall(cursor)\n",
    "posts = posts[(page-1)*3: page*3]\n",
    "\n",
    "posts"
   ]
  },
  {
   "cell_type": "code",
   "execution_count": 50,
   "metadata": {
    "ExecuteTime": {
     "end_time": "2020-02-21T02:21:54.315168Z",
     "start_time": "2020-02-21T02:21:54.308166Z"
    }
   },
   "outputs": [
    {
     "name": "stdout",
     "output_type": "stream",
     "text": [
      "username :  gghotted\n"
     ]
    },
    {
     "data": {
      "text/plain": [
       "[{'username': 'gghotted', 'title': '2시 54분임 ???', 'views': 9},\n",
       " {'username': 'gghotted', 'title': 'common category test', 'views': 2},\n",
       " {'username': 'gghotted', 'title': '점심메뉴 뭔지 아시는분?', 'views': 0}]"
      ]
     },
     "execution_count": 50,
     "metadata": {},
     "output_type": "execute_result"
    }
   ],
   "source": [
    "username = 'gghotted'\n",
    "category = 'common'\n",
    "page = 1\n",
    "print('username : ', username)\n",
    "cursor = connection.cursor()\n",
    "cursor.execute(f'''\n",
    "SELECT username, title, views\n",
    "From board_board, auth_user\n",
    "WHERE username = '{username}' and category = '{category}'\n",
    "''')\n",
    "posts = dictfetchall(cursor)\n",
    "posts = posts[(page-1)*3: page*3]\n",
    "\n",
    "posts"
   ]
  },
  {
   "cell_type": "code",
   "execution_count": 5,
   "metadata": {
    "ExecuteTime": {
     "end_time": "2020-02-21T05:07:53.400213Z",
     "start_time": "2020-02-21T05:07:53.388228Z"
    }
   },
   "outputs": [
    {
     "data": {
      "text/plain": [
       "<django.db.backends.sqlite3.base.SQLiteCursorWrapper at 0x229699c5168>"
      ]
     },
     "execution_count": 5,
     "metadata": {},
     "output_type": "execute_result"
    }
   ],
   "source": [
    "username = 'admin'\n",
    "filename = 'face2.png'\n",
    "\n",
    "sql = f\"SELECT id from auth_user WHERE username='{username}'\"\n",
    "cursor.execute(sql)\n",
    "\n",
    "author_id = cursor.fetchone()[0]\n",
    "\n",
    "sql = f'''\n",
    "INSERT INTO board_image\n",
    "(\"author_id\", \"filename\")\n",
    "VALUES ({author_id}, '{filename}');\n",
    "'''\n",
    "cursor.execute(sql)"
   ]
  },
  {
   "cell_type": "code",
   "execution_count": 6,
   "metadata": {
    "ExecuteTime": {
     "end_time": "2020-02-21T05:08:51.367386Z",
     "start_time": "2020-02-21T05:08:51.363397Z"
    }
   },
   "outputs": [],
   "source": [
    "def insert_img(username, filename):\n",
    "    sql = f\"SELECT id from auth_user WHERE username='{username}'\"\n",
    "    cursor.execute(sql)\n",
    "\n",
    "    author_id = cursor.fetchone()[0]\n",
    "\n",
    "    sql = f'''\n",
    "    INSERT INTO board_image\n",
    "    (\"author_id\", \"filename\")\n",
    "    VALUES ({author_id}, '{filename}');\n",
    "    '''\n",
    "    cursor.execute(sql)"
   ]
  },
  {
   "cell_type": "code",
   "execution_count": 7,
   "metadata": {
    "ExecuteTime": {
     "end_time": "2020-02-21T05:09:15.671058Z",
     "start_time": "2020-02-21T05:09:15.660085Z"
    }
   },
   "outputs": [],
   "source": [
    "insert_img('gghotted', 'test.png')"
   ]
  },
  {
   "cell_type": "code",
   "execution_count": 16,
   "metadata": {
    "ExecuteTime": {
     "end_time": "2020-02-21T05:49:02.804567Z",
     "start_time": "2020-02-21T05:49:02.740266Z"
    }
   },
   "outputs": [],
   "source": [
    "user = User()\n",
    "user.username = 'irin'\n",
    "user.set_password('elwlahs2')"
   ]
  },
  {
   "cell_type": "code",
   "execution_count": 17,
   "metadata": {
    "ExecuteTime": {
     "end_time": "2020-02-21T05:49:03.935588Z",
     "start_time": "2020-02-21T05:49:03.924573Z"
    }
   },
   "outputs": [],
   "source": [
    "user.save()"
   ]
  }
 ],
 "metadata": {
  "kernelspec": {
   "display_name": "Django Shell-Plus",
   "language": "python",
   "name": "django_extensions"
  },
  "language_info": {
   "codemirror_mode": {
    "name": "ipython",
    "version": 3
   },
   "file_extension": ".py",
   "mimetype": "text/x-python",
   "name": "python",
   "nbconvert_exporter": "python",
   "pygments_lexer": "ipython3",
   "version": "3.6.10"
  },
  "varInspector": {
   "cols": {
    "lenName": 16,
    "lenType": 16,
    "lenVar": 40
   },
   "kernels_config": {
    "python": {
     "delete_cmd_postfix": "",
     "delete_cmd_prefix": "del ",
     "library": "var_list.py",
     "varRefreshCmd": "print(var_dic_list())"
    },
    "r": {
     "delete_cmd_postfix": ") ",
     "delete_cmd_prefix": "rm(",
     "library": "var_list.r",
     "varRefreshCmd": "cat(var_dic_list()) "
    }
   },
   "types_to_exclude": [
    "module",
    "function",
    "builtin_function_or_method",
    "instance",
    "_Feature"
   ],
   "window_display": false
  }
 },
 "nbformat": 4,
 "nbformat_minor": 4
}
