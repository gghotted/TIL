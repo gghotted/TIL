{
 "cells": [
  {
   "cell_type": "code",
   "execution_count": 1,
   "metadata": {
    "ExecuteTime": {
     "end_time": "2020-02-17T07:27:24.716096Z",
     "start_time": "2020-02-17T07:27:24.702590Z"
    }
   },
   "outputs": [],
   "source": [
    "from myapp.models import User\n",
    "from django.db.models import Q"
   ]
  },
  {
   "cell_type": "markdown",
   "metadata": {},
   "source": [
    "## age__gte = n, age가 n 이상인것"
   ]
  },
  {
   "cell_type": "code",
   "execution_count": 10,
   "metadata": {
    "ExecuteTime": {
     "end_time": "2020-02-17T06:35:34.122804Z",
     "start_time": "2020-02-17T06:35:34.117863Z"
    }
   },
   "outputs": [
    {
     "data": {
      "text/plain": [
       "<QuerySet [<User: gghotted / 박경인>]>"
      ]
     },
     "execution_count": 10,
     "metadata": {},
     "output_type": "execute_result"
    }
   ],
   "source": [
    "users.filter(age__gte=27)\n"
   ]
  },
  {
   "cell_type": "markdown",
   "metadata": {},
   "source": [
    "## and 조건 검색"
   ]
  },
  {
   "cell_type": "code",
   "execution_count": 11,
   "metadata": {
    "ExecuteTime": {
     "end_time": "2020-02-17T06:37:46.499637Z",
     "start_time": "2020-02-17T06:37:46.493654Z"
    },
    "scrolled": true
   },
   "outputs": [
    {
     "data": {
      "text/plain": [
       "<QuerySet [<User: gghotted / 박경인>]>"
      ]
     },
     "execution_count": 11,
     "metadata": {},
     "output_type": "execute_result"
    }
   ],
   "source": [
    "users.filter(name='박경인', age=27)"
   ]
  },
  {
   "cell_type": "markdown",
   "metadata": {},
   "source": [
    "## 문자열 포함 검색"
   ]
  },
  {
   "cell_type": "code",
   "execution_count": 13,
   "metadata": {
    "ExecuteTime": {
     "end_time": "2020-02-17T06:40:54.130492Z",
     "start_time": "2020-02-17T06:40:54.125483Z"
    }
   },
   "outputs": [
    {
     "data": {
      "text/plain": [
       "<QuerySet [<User: gghotted / 박경인>]>"
      ]
     },
     "execution_count": 13,
     "metadata": {},
     "output_type": "execute_result"
    }
   ],
   "source": [
    "users.filter(name__contains='경')"
   ]
  },
  {
   "cell_type": "markdown",
   "metadata": {},
   "source": [
    "## icontaions : 대소문자 구분 x"
   ]
  },
  {
   "cell_type": "code",
   "execution_count": 14,
   "metadata": {
    "ExecuteTime": {
     "end_time": "2020-02-17T06:41:24.819308Z",
     "start_time": "2020-02-17T06:41:24.813300Z"
    }
   },
   "outputs": [
    {
     "data": {
      "text/plain": [
       "<QuerySet [<User: gghotted / 박경인>]>"
      ]
     },
     "execution_count": 14,
     "metadata": {},
     "output_type": "execute_result"
    }
   ],
   "source": [
    "users.filter(name__icontains='경')"
   ]
  },
  {
   "cell_type": "markdown",
   "metadata": {},
   "source": [
    "# Q"
   ]
  },
  {
   "cell_type": "code",
   "execution_count": 20,
   "metadata": {
    "ExecuteTime": {
     "end_time": "2020-02-17T06:47:51.924154Z",
     "start_time": "2020-02-17T06:47:51.919104Z"
    }
   },
   "outputs": [
    {
     "data": {
      "text/plain": [
       "<QuerySet [<User: gghotted / 박경인>]>"
      ]
     },
     "execution_count": 20,
     "metadata": {},
     "output_type": "execute_result"
    }
   ],
   "source": [
    "users.filter(Q(age=27) and Q(name__icontains='박'))"
   ]
  },
  {
   "cell_type": "code",
   "execution_count": 25,
   "metadata": {
    "ExecuteTime": {
     "end_time": "2020-02-17T07:13:55.794385Z",
     "start_time": "2020-02-17T07:13:55.724612Z"
    }
   },
   "outputs": [],
   "source": [
    "for i in range(10):\n",
    "    params = {\"userid\": f\"gghotted{i}\",\n",
    "              \"name\": \"박경인\",\n",
    "              \"age\": i+10,\n",
    "              \"hobby\": \"프로그램\"}\n",
    "    User.objects.create(**params).save()"
   ]
  },
  {
   "cell_type": "code",
   "execution_count": 5,
   "metadata": {
    "ExecuteTime": {
     "end_time": "2020-02-17T07:28:08.480468Z",
     "start_time": "2020-02-17T07:28:08.476467Z"
    }
   },
   "outputs": [],
   "source": [
    "users = User.objects.all()\n",
    "users[3].name = '홍길동'\n",
    "users[3].save()"
   ]
  },
  {
   "cell_type": "code",
   "execution_count": 7,
   "metadata": {
    "ExecuteTime": {
     "end_time": "2020-02-17T07:29:07.529626Z",
     "start_time": "2020-02-17T07:29:07.524570Z"
    }
   },
   "outputs": [
    {
     "data": {
      "text/plain": [
       "<User: gghotted2 / 박경인>"
      ]
     },
     "execution_count": 7,
     "metadata": {},
     "output_type": "execute_result"
    }
   ],
   "source": [
    "hong = users[3]\n",
    "hong"
   ]
  },
  {
   "cell_type": "code",
   "execution_count": 9,
   "metadata": {
    "ExecuteTime": {
     "end_time": "2020-02-17T07:29:32.671572Z",
     "start_time": "2020-02-17T07:29:32.660643Z"
    }
   },
   "outputs": [
    {
     "name": "stdout",
     "output_type": "stream",
     "text": [
      "홍길동\n"
     ]
    }
   ],
   "source": [
    "hong.name = '홍길동'\n",
    "hong.save()\n",
    "print(hong.name)"
   ]
  },
  {
   "cell_type": "code",
   "execution_count": 10,
   "metadata": {
    "ExecuteTime": {
     "end_time": "2020-02-17T07:29:39.567612Z",
     "start_time": "2020-02-17T07:29:39.556742Z"
    }
   },
   "outputs": [
    {
     "data": {
      "text/plain": [
       "<QuerySet [<User: gghotted / 박경인>, <User: gghotted0 / 박경인>, <User: gghotted1 / 박경인>, <User: gghotted2 / 홍길동>, <User: gghotted3 / 박경인>, <User: gghotted4 / 박경인>, <User: gghotted5 / 박경인>, <User: gghotted6 / 박경인>, <User: gghotted7 / 박경인>, <User: gghotted8 / 박경인>, <User: gghotted9 / 박경인>]>"
      ]
     },
     "execution_count": 10,
     "metadata": {},
     "output_type": "execute_result"
    }
   ],
   "source": [
    "users"
   ]
  }
 ],
 "metadata": {
  "kernelspec": {
   "display_name": "Django Shell-Plus",
   "language": "python",
   "name": "django_extensions"
  },
  "language_info": {
   "codemirror_mode": {
    "name": "ipython",
    "version": 3
   },
   "file_extension": ".py",
   "mimetype": "text/x-python",
   "name": "python",
   "nbconvert_exporter": "python",
   "pygments_lexer": "ipython3",
   "version": "3.6.10"
  },
  "varInspector": {
   "cols": {
    "lenName": 16,
    "lenType": 16,
    "lenVar": 40
   },
   "kernels_config": {
    "python": {
     "delete_cmd_postfix": "",
     "delete_cmd_prefix": "del ",
     "library": "var_list.py",
     "varRefreshCmd": "print(var_dic_list())"
    },
    "r": {
     "delete_cmd_postfix": ") ",
     "delete_cmd_prefix": "rm(",
     "library": "var_list.r",
     "varRefreshCmd": "cat(var_dic_list()) "
    }
   },
   "types_to_exclude": [
    "module",
    "function",
    "builtin_function_or_method",
    "instance",
    "_Feature"
   ],
   "window_display": false
  }
 },
 "nbformat": 4,
 "nbformat_minor": 4
}
