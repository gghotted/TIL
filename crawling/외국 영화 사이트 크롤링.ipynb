{
 "cells": [
  {
   "cell_type": "markdown",
   "metadata": {},
   "source": [
    "# 외국 영화 사이트 크롤링"
   ]
  },
  {
   "cell_type": "code",
   "execution_count": 2,
   "metadata": {
    "ExecuteTime": {
     "end_time": "2020-02-10T11:42:27.786833Z",
     "start_time": "2020-02-10T11:42:25.981659Z"
    }
   },
   "outputs": [
    {
     "name": "stdout",
     "output_type": "stream",
     "text": [
      "title    Star Wars: Episode VIII - The Last Jedi\n",
      "gross                                     620.18\n",
      "Name: 6, dtype: object \n",
      "\n",
      "\n",
      "title      Blade Runner 2049\n",
      "runtime                  164\n",
      "Name: 2, dtype: object \n",
      "\n",
      "\n",
      "title       Logan\n",
      "runtime       137\n",
      "votes      598741\n",
      "Name: 11, dtype: object\n"
     ]
    }
   ],
   "source": [
    "from bs4 import BeautifulSoup\n",
    "import requests\n",
    "import re\n",
    "import pandas as pd\n",
    "\n",
    "try_to_text = lambda x : x.text if x else None\n",
    "url = 'https://www.imdb.com/search/title/?count=100&release_date=2017,2017&title_type=feature'\n",
    "res = requests.get(url)\n",
    "soup = BeautifulSoup(res.text, 'html.parser')\n",
    "df = pd.DataFrame()\n",
    "\n",
    "for ele in soup.select('.lister-item-content'):\n",
    "    # 100개의 (각 영화의 정보를 가지고 있는)엘리먼트에 대한 loop\n",
    "    # 딕셔너리에 엘리먼트로부터 수집한 영화 정보를 할당하고 dataframe에\n",
    "    # 딕셔너리를 행으로 추가\n",
    "\n",
    "    # 처리가 간단한 정보는 딕셔너리에 바로 할당\n",
    "    row = {\n",
    "        'rank': ele.select_one('.lister-item-index').text.replace('.', ''),\n",
    "        'title': ele.select_one('.lister-item-header > a').text,\n",
    "        'description': ele.select('p.text-muted')[1].text.replace('\\n', ' '),\n",
    "        'runtime': ele.select_one('.runtime').text[:-4],\n",
    "        'genre': ele.select_one('.genre').text,\n",
    "        'rating': ele.select_one('.ratings-imdb-rating > strong').text,\n",
    "        'metascore': try_to_text(ele.select_one('.metascore')),\n",
    "        'votes': None,\n",
    "        'gross': None,\n",
    "    }\n",
    "\n",
    "    # 처리가 복잡한 정보는 파싱하여 딕셔너리에 할당\n",
    "    votes_n_gross = ele.select_one('.sort-num_votes-visible').get_text()\n",
    "    director_n_star = ele.select_one('p:nth-of-type(3)').get_text()\n",
    "    pattern = re.compile(r'[\\s\\n$M]')\n",
    "    for data in votes_n_gross.split('|'):\n",
    "        key, val = re.sub(pattern, '', data).split(':')\n",
    "        row[key.lower()] = float(val.replace(',', ''))\n",
    "    for data in director_n_star.split('|'):\n",
    "        key, val = data.replace('\\n', '').split(':')\n",
    "        if 'Directors' in key:\n",
    "            key = 'director'\n",
    "        row[key.lower().strip()] = val.strip()\n",
    "\n",
    "    # 딕셔너리를 dataframe의 행으로 추가\n",
    "    df = df.append(row, ignore_index=True)\n",
    "    \n",
    "\n",
    "\n",
    "# 1. gross(총수익)이 가장 높은 영화는?\n",
    "print(df.iloc[df.gross.idxmax()][['title', 'gross']], '\\n\\n')\n",
    "\n",
    "# 2. 상영시간이 가장 긴 영화\n",
    "print(df.iloc[df.runtime.astype('int').idxmax()][['title', 'runtime']], '\\n\\n')\n",
    "\n",
    "# 3. 상영시간이 130-160 분인 장르중 votes가 가장 높은 영화는?\n",
    "bool_ = (130 <= df['runtime'].astype('int')) & (df['runtime'].astype('int') <= 160)\n",
    "ndf = df[bool_]\n",
    "ndf = ndf.reset_index(drop=True)\n",
    "print(ndf.iloc[ndf.votes.idxmax()][['title', 'runtime', 'votes']])"
   ]
  }
 ],
 "metadata": {
  "kernelspec": {
   "display_name": "Python 3",
   "language": "python",
   "name": "python3"
  },
  "language_info": {
   "codemirror_mode": {
    "name": "ipython",
    "version": 3
   },
   "file_extension": ".py",
   "mimetype": "text/x-python",
   "name": "python",
   "nbconvert_exporter": "python",
   "pygments_lexer": "ipython3",
   "version": "3.7.5"
  },
  "varInspector": {
   "cols": {
    "lenName": 16,
    "lenType": 16,
    "lenVar": 40
   },
   "kernels_config": {
    "python": {
     "delete_cmd_postfix": "",
     "delete_cmd_prefix": "del ",
     "library": "var_list.py",
     "varRefreshCmd": "print(var_dic_list())"
    },
    "r": {
     "delete_cmd_postfix": ") ",
     "delete_cmd_prefix": "rm(",
     "library": "var_list.r",
     "varRefreshCmd": "cat(var_dic_list()) "
    }
   },
   "types_to_exclude": [
    "module",
    "function",
    "builtin_function_or_method",
    "instance",
    "_Feature"
   ],
   "window_display": false
  }
 },
 "nbformat": 4,
 "nbformat_minor": 2
}
