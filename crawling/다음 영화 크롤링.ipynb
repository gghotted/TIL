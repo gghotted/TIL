{
 "cells": [
  {
   "cell_type": "markdown",
   "metadata": {},
   "source": [
    "# 다음 영화 크롤링"
   ]
  },
  {
   "cell_type": "code",
   "execution_count": 8,
   "metadata": {
    "ExecuteTime": {
     "end_time": "2020-02-10T11:39:10.456431Z",
     "start_time": "2020-02-10T11:39:00.725432Z"
    }
   },
   "outputs": [
    {
     "name": "stdout",
     "output_type": "stream",
     "text": [
      "\n",
      "*1위* 클로젯 (2020) [평점 7.5]\n",
      "(0점) 나니아연대기, 곡성, 애나벨 등등 다 짬뽕이고 짜집기해서 웃김ㅋㅋㅋㅋ 신선함과 독창성 1도 안보이고 식상함 그 자체ㅋㅋㅋ 유치해서 내용도 다 예측이됨ㅋㅋㅋ\n",
      "(10점) \n",
      "(10점) 굳굳. 사운드 장인. 잔혹동화 느낌. 하정우 김남길 연기력도 좋았음\n",
      "(10점) 벽장 무서워서 잠이나 자겠나ㅜ 하정우 김남길 이 조합 찬성\n",
      "(10점) 초중반 너무 무서워서 몸에 하도 힘을 주고 봤더니 ㅠㅠ 몸아픔.. 영상미, 미술 요런 부분에 고민을 많이 하신 티가 남. 미장센 굳굳.\n",
      "\n",
      "*2위* 남산의 부장들 (2019) [평점 8.4]\n",
      "(10점) 김재규 짱~\n",
      "(10점) 오래전에 책으로 읽은 책~ 반드시 봐야 할 영화~ 역사 제대로 알기\n",
      "(8점) \n",
      "(10점) 쿠데타 불법 정권 박정희/전두환이 영웅인 나라\n",
      "(9점) 관심있던 사건이라 나름 좋았음. 김재규가 왜 차지철과 박정희를 죽였을까?를 보여주는데 촛점을 맞춘 영화. 10.26에 관심없는 사람이 본다면 졸거나 자고 나올 수 있음에 주의.\n",
      "\n",
      "*3위* 버즈 오브 프레이(할리 퀸의 황홀한 해방) (2020) [평점 6.8]\n",
      "(0점) 영화평점은 자고로 cgv앱이나 메가박스앱 등을 통해서 실제로 영화를 관람한 사람들의 평점으로 확인해야 정확합니다. 자기돈 주고 보지도 않은 알바들 평점에 휘둘리지 마세요\n",
      "(10점) 재밌어요!^^\n",
      "(4점) 카나리의 샤우팅은 다른 의미로 소름이 돋았다\n",
      "(10점) 볼만함\n",
      "(10점) \n",
      "\n",
      "*4위* 히트맨 (2019) [평점 6.8]\n",
      "(2점) 절대비추영화. 억지웃음과 스토리전개에 어긋나는 대사나 액션들, 배우들도 어색하기 짝이없는 연기력. 짜증 지대로 나게하는 영화. 욕 바가지로 하다가 나왔다.\n",
      "(10점) 권상우씨 액션 잘 보고있습니다 황우슬혜씨도 넘 웃겼어요 ㅎ\n",
      "(1점) 감상평도 적어야하나?어제봣는데 기억이안나서\n",
      "(8점) 재미있는 이야기\n",
      "(7점) \n",
      "\n",
      "*5위* 극장판 미니특공대: 공룡왕 디노 (2019) [평점 7.9]\n",
      "(8점) \n",
      "(7점) 고퀄 애니메이션인데, 미취학 아동에게는 너무 폭력적인 장면이 많이 나와요. 볼거리는 풍부하나 스토리도 진부해요 .\n",
      "(10점) 시사로 봤는데 아이들이 넘 좋아하네여 ㅎㅎ\n",
      "(10점) \n",
      "(10점) 너무 기대됩니다.\n"
     ]
    }
   ],
   "source": [
    "from selenium import webdriver\n",
    "\n",
    "# 크롬 객체 생성\n",
    "options = webdriver.ChromeOptions()\n",
    "options.add_argument('--headless')\n",
    "options.add_argument('--no-sandbox')\n",
    "options.add_argument('--disable-dev-shm-usage')\n",
    "\n",
    "wd = webdriver.Chrome('C:/Users/student/Desktop/chromedriver_win32/chromedriver.exe',options=options)\n",
    "\n",
    "# html 가져오기\n",
    "wd.get(\"https://movie.daum.net/boxoffice/weekly\")\n",
    "\n",
    "# 랭크 상위 5개의 href 저장\n",
    "hrefs = [movie.get_attribute('href') for movie in wd.find_elements_by_css_selector('.desc_movie')[:5]]\n",
    "\n",
    "# 5개 영화 크롤링\n",
    "for i, href in enumerate(hrefs):\n",
    "    wd.get(href)\n",
    "    movie_name = wd.find_element_by_css_selector(\".subject_movie > .tit_movie\").text\n",
    "    score_rating = wd.find_element_by_class_name(\"score_rating\").text\n",
    "    print(f'\\n*{i+1}위* {movie_name} [평점 {score_rating}]')\n",
    "\n",
    "    for review in wd.find_elements_by_class_name('review_info'):\n",
    "        score = review.find_element_by_class_name('emph_grade').text\n",
    "        content = review.find_element_by_class_name('desc_review').text.replace('\\n',' ')\n",
    "        print(f'({score}점) {content}')"
   ]
  }
 ],
 "metadata": {
  "kernelspec": {
   "display_name": "Python 3",
   "language": "python",
   "name": "python3"
  },
  "language_info": {
   "codemirror_mode": {
    "name": "ipython",
    "version": 3
   },
   "file_extension": ".py",
   "mimetype": "text/x-python",
   "name": "python",
   "nbconvert_exporter": "python",
   "pygments_lexer": "ipython3",
   "version": "3.7.5"
  },
  "varInspector": {
   "cols": {
    "lenName": 16,
    "lenType": 16,
    "lenVar": 40
   },
   "kernels_config": {
    "python": {
     "delete_cmd_postfix": "",
     "delete_cmd_prefix": "del ",
     "library": "var_list.py",
     "varRefreshCmd": "print(var_dic_list())"
    },
    "r": {
     "delete_cmd_postfix": ") ",
     "delete_cmd_prefix": "rm(",
     "library": "var_list.r",
     "varRefreshCmd": "cat(var_dic_list()) "
    }
   },
   "types_to_exclude": [
    "module",
    "function",
    "builtin_function_or_method",
    "instance",
    "_Feature"
   ],
   "window_display": false
  }
 },
 "nbformat": 4,
 "nbformat_minor": 2
}
